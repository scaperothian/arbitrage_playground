{
 "cells": [
  {
   "cell_type": "markdown",
   "id": "9c58d203-9ac9-4e04-8901-1b414acf3a22",
   "metadata": {},
   "source": [
    "## Etherscan Notebook \n",
    "\n",
    "Looking at how to derive price for tokens and gas fees by pool.  Pool example can be found [here](https://app.uniswap.org/explore/pools/ethereum/0x88e6A0c2dDD26FEEb64F039a2c41296FcB3f5640)"
   ]
  },
  {
   "cell_type": "code",
   "execution_count": 6,
   "id": "00b58244-2683-4e84-8ebb-ebb0f59a833b",
   "metadata": {},
   "outputs": [],
   "source": [
    "import requests\n",
    "import time \n",
    "import os\n",
    "import pandas as pd\n",
    "import numpy as np\n",
    "from web3 import Web3\n",
    "\n",
    "import src.arbutils as arbutils\n"
   ]
  },
  {
   "cell_type": "code",
   "execution_count": 4,
   "id": "0c4e358d-4b12-441f-8c6b-9e9152680818",
   "metadata": {},
   "outputs": [
    {
     "name": "stdout",
     "output_type": "stream",
     "text": [
      "Moving active path to parent directory\n",
      "/Users/das/DATASCI210/arbitrage_playground\n"
     ]
    }
   ],
   "source": [
    "# change the active path to the parent directory \n",
    "if True: \n",
    "    print(\"Moving active path to parent directory\")\n",
    "    os.chdir('..')\n",
    "    print(os.getcwd())"
   ]
  },
  {
   "cell_type": "code",
   "execution_count": 3,
   "id": "5de8f532-aee9-4cce-8fa3-3d93997e37ce",
   "metadata": {},
   "outputs": [
    {
     "name": "stdout",
     "output_type": "stream",
     "text": [
      "Found API Key!\n"
     ]
    }
   ],
   "source": [
    "API_KEY =  os.getenv('GRAPH_API_KEY')\n",
    "if not API_KEY:\n",
    "    print(\"No GRAPH_API_KEY found\")\n",
    "else:\n",
    "    print(\"Found API Key!\")"
   ]
  },
  {
   "cell_type": "code",
   "execution_count": 7,
   "id": "cb658211-fb00-4d06-8e70-d6e1c9e88869",
   "metadata": {},
   "outputs": [],
   "source": [
    "POOL0_ADDRESS=\"0x88e6a0c2ddd26feeb64f039a2c41296fcb3f5640\" # USDC / WETH (0.05%) \n",
    "POOL0_TXN_FEE = 0.0005\n",
    "POOL1_ADDRESS=\"0x8ad599c3a0ff1de082011efddc58f1908eb6e6d8\" # USDC / WETH (0.3%)\n",
    "POOl1_TXN_FEE = 0.003\n",
    "\n",
    "GWEI_SCALER = 1e9"
   ]
  },
  {
   "cell_type": "code",
   "execution_count": 8,
   "id": "9aa4ddc5-c032-4602-b014-724f63dcf861",
   "metadata": {},
   "outputs": [
    {
     "name": "stdout",
     "output_type": "stream",
     "text": [
      "Starting from timestamp: 1736878437\n",
      "query number 0 1736878437 1736882037\n",
      "Batch 1, Total swaps: 188, Avg Fetch Time: 0.5s\n",
      "query number 1 1736881919 1736882037\n",
      "Starting from timestamp: 1736878438\n",
      "query number 0 1736878438 1736882038\n",
      "Batch 1, Total swaps: 5, Avg Fetch Time: 0.2s\n",
      "query number 1 1736881175 1736882038\n",
      "Are there any NaNs in the DataFrame? False\n"
     ]
    },
    {
     "name": "stderr",
     "output_type": "stream",
     "text": [
      "/Users/das/DATASCI210/arbitrage_playground/src/arbutils.py:540: FutureWarning: Downcasting object dtype arrays on .fillna, .ffill, .bfill is deprecated and will change in a future version. Call result.infer_objects(copy=False) instead. To opt-in to the future behavior, set `pd.set_option('future.no_silent_downcasting', True)`\n",
      "  both_pools = both_pools.ffill().reset_index(drop=True)\n"
     ]
    }
   ],
   "source": [
    "p0 = arbutils.thegraph_request(API_KEY, \n",
    "                            POOL0_ADDRESS,\n",
    "                            new_date=None, \n",
    "                            old_date=None, \n",
    "                            data_path=None, \n",
    "                            checkpoint_file=None)\n",
    "\n",
    "p1 = arbutils.thegraph_request(API_KEY, \n",
    "                            POOL1_ADDRESS,\n",
    "                            new_date=None, \n",
    "                            old_date=None, \n",
    "                            data_path=None, \n",
    "                            checkpoint_file=None)\n",
    "\n",
    "merged_pools = arbutils.merge_pool_data_v2(p0, \n",
    "                                           POOL0_TXN_FEE, \n",
    "                                           p1, \n",
    "                                           POOl1_TXN_FEE)\n"
   ]
  },
  {
   "cell_type": "code",
   "execution_count": 9,
   "id": "13fb41ac-7ca4-4d82-99e3-0f11e826f0a0",
   "metadata": {},
   "outputs": [
    {
     "data": {
      "text/plain": [
       "Index(['transactionHash', 'datetime', 'timeStamp', 'sqrtPriceX96',\n",
       "       'blockNumber', 'gasPrice', 'gasUsed', 'tick', 'amount0', 'amount1',\n",
       "       'liquidity'],\n",
       "      dtype='object')"
      ]
     },
     "execution_count": 9,
     "metadata": {},
     "output_type": "execute_result"
    }
   ],
   "source": [
    "p0.columns"
   ]
  },
  {
   "cell_type": "code",
   "execution_count": 10,
   "id": "f946ef82-e594-4de7-9602-e3cd69bfef1d",
   "metadata": {},
   "outputs": [
    {
     "data": {
      "text/html": [
       "<div>\n",
       "<style scoped>\n",
       "    .dataframe tbody tr th:only-of-type {\n",
       "        vertical-align: middle;\n",
       "    }\n",
       "\n",
       "    .dataframe tbody tr th {\n",
       "        vertical-align: top;\n",
       "    }\n",
       "\n",
       "    .dataframe thead th {\n",
       "        text-align: right;\n",
       "    }\n",
       "</style>\n",
       "<table border=\"1\" class=\"dataframe\">\n",
       "  <thead>\n",
       "    <tr style=\"text-align: right;\">\n",
       "      <th></th>\n",
       "      <th>transactionHash</th>\n",
       "      <th>datetime</th>\n",
       "      <th>timeStamp</th>\n",
       "      <th>sqrtPriceX96</th>\n",
       "      <th>blockNumber</th>\n",
       "      <th>gasPrice</th>\n",
       "      <th>gasUsed</th>\n",
       "      <th>tick</th>\n",
       "      <th>amount0</th>\n",
       "      <th>amount1</th>\n",
       "      <th>liquidity</th>\n",
       "    </tr>\n",
       "  </thead>\n",
       "  <tbody>\n",
       "    <tr>\n",
       "      <th>0</th>\n",
       "      <td>0x38816e2410db7683d3d0b7533096e85f4a341af972c5...</td>\n",
       "      <td>2025-01-14 18:13:59+00:00</td>\n",
       "      <td>1736878439</td>\n",
       "      <td>1.398392e+33</td>\n",
       "      <td>21624449</td>\n",
       "      <td>1.066782e+10</td>\n",
       "      <td>0.0</td>\n",
       "      <td>195579.0</td>\n",
       "      <td>178.406690</td>\n",
       "      <td>-0.055551</td>\n",
       "      <td>-1.0</td>\n",
       "    </tr>\n",
       "    <tr>\n",
       "      <th>1</th>\n",
       "      <td>0xe852dbce0570a87b242aa1b43464397e9a87c4cf5d50...</td>\n",
       "      <td>2025-01-14 18:13:59+00:00</td>\n",
       "      <td>1736878439</td>\n",
       "      <td>1.398380e+33</td>\n",
       "      <td>21624449</td>\n",
       "      <td>1.243841e+10</td>\n",
       "      <td>0.0</td>\n",
       "      <td>195579.0</td>\n",
       "      <td>2024.384283</td>\n",
       "      <td>-0.630334</td>\n",
       "      <td>-1.0</td>\n",
       "    </tr>\n",
       "    <tr>\n",
       "      <th>2</th>\n",
       "      <td>0x000eff2dc98216db4fc36fc83393be7cc47c1e64525f...</td>\n",
       "      <td>2025-01-14 18:14:23+00:00</td>\n",
       "      <td>1736878463</td>\n",
       "      <td>1.398349e+33</td>\n",
       "      <td>21624451</td>\n",
       "      <td>1.198704e+10</td>\n",
       "      <td>0.0</td>\n",
       "      <td>195579.0</td>\n",
       "      <td>5197.473245</td>\n",
       "      <td>-1.618290</td>\n",
       "      <td>-1.0</td>\n",
       "    </tr>\n",
       "    <tr>\n",
       "      <th>3</th>\n",
       "      <td>0xa2b90db051d488eebbdf430171d47b54ebee2e1f9a73...</td>\n",
       "      <td>2025-01-14 18:14:23+00:00</td>\n",
       "      <td>1736878463</td>\n",
       "      <td>1.397916e+33</td>\n",
       "      <td>21624451</td>\n",
       "      <td>1.220451e+10</td>\n",
       "      <td>0.0</td>\n",
       "      <td>195573.0</td>\n",
       "      <td>72080.699152</td>\n",
       "      <td>-22.435681</td>\n",
       "      <td>-1.0</td>\n",
       "    </tr>\n",
       "    <tr>\n",
       "      <th>4</th>\n",
       "      <td>0x3062ec26c7d593ab7978c3a196fe14d244f3426ae5c4...</td>\n",
       "      <td>2025-01-14 18:14:47+00:00</td>\n",
       "      <td>1736878487</td>\n",
       "      <td>1.397784e+33</td>\n",
       "      <td>21624453</td>\n",
       "      <td>1.204943e+10</td>\n",
       "      <td>0.0</td>\n",
       "      <td>195571.0</td>\n",
       "      <td>21000.000000</td>\n",
       "      <td>-6.533749</td>\n",
       "      <td>-1.0</td>\n",
       "    </tr>\n",
       "  </tbody>\n",
       "</table>\n",
       "</div>"
      ],
      "text/plain": [
       "                                     transactionHash  \\\n",
       "0  0x38816e2410db7683d3d0b7533096e85f4a341af972c5...   \n",
       "1  0xe852dbce0570a87b242aa1b43464397e9a87c4cf5d50...   \n",
       "2  0x000eff2dc98216db4fc36fc83393be7cc47c1e64525f...   \n",
       "3  0xa2b90db051d488eebbdf430171d47b54ebee2e1f9a73...   \n",
       "4  0x3062ec26c7d593ab7978c3a196fe14d244f3426ae5c4...   \n",
       "\n",
       "                   datetime   timeStamp  sqrtPriceX96  blockNumber  \\\n",
       "0 2025-01-14 18:13:59+00:00  1736878439  1.398392e+33     21624449   \n",
       "1 2025-01-14 18:13:59+00:00  1736878439  1.398380e+33     21624449   \n",
       "2 2025-01-14 18:14:23+00:00  1736878463  1.398349e+33     21624451   \n",
       "3 2025-01-14 18:14:23+00:00  1736878463  1.397916e+33     21624451   \n",
       "4 2025-01-14 18:14:47+00:00  1736878487  1.397784e+33     21624453   \n",
       "\n",
       "       gasPrice  gasUsed      tick       amount0    amount1  liquidity  \n",
       "0  1.066782e+10      0.0  195579.0    178.406690  -0.055551       -1.0  \n",
       "1  1.243841e+10      0.0  195579.0   2024.384283  -0.630334       -1.0  \n",
       "2  1.198704e+10      0.0  195579.0   5197.473245  -1.618290       -1.0  \n",
       "3  1.220451e+10      0.0  195573.0  72080.699152 -22.435681       -1.0  \n",
       "4  1.204943e+10      0.0  195571.0  21000.000000  -6.533749       -1.0  "
      ]
     },
     "execution_count": 10,
     "metadata": {},
     "output_type": "execute_result"
    }
   ],
   "source": [
    "p0.head()"
   ]
  },
  {
   "cell_type": "markdown",
   "id": "fe416147-b313-41aa-9f5a-1d2e99a28c11",
   "metadata": {},
   "source": [
    "Now that I have information at the transaction level.  I would like to parse specific transactions to extract the sqrtPriceX96 value which is the only value missing for our current model.  Also, assuming that I am doing this for inference, I only need transactions that fit the following criteria: (1) at least one transactions from each pool (because of the forward fill), (2) at least 10 transactions total (to ensure we can do lags and moving averages for feature extraction). \n",
    "\n",
    "For now, I will just truncate both to use only the last ten from each pool.  This is a shortcut for inference only that allows redunancy in the fetch for data from logs, allows for forward fill of known values, etc."
   ]
  },
  {
   "cell_type": "code",
   "execution_count": 11,
   "id": "24b74e79-6898-492d-8d42-befc0817ff7a",
   "metadata": {},
   "outputs": [],
   "source": [
    "p0 = p0.iloc[-10:]\n",
    "p1 = p1.iloc[-10:]"
   ]
  },
  {
   "cell_type": "markdown",
   "id": "d211a84c-c51a-4a19-b2a9-901f07b9cce9",
   "metadata": {},
   "source": [
    "**Get price within the Pool in ETH/USDC**\n",
    "\n",
    "To derive the price for the pool in ETH/USDC, you must use the sqrtPriceX96 value, which is the pool price immediately after the transaction takes place (including slippage).  You can see below that there is almost always a descrepency, but its not always enough to over come transaction and gas fees (see below)."
   ]
  },
  {
   "cell_type": "code",
   "execution_count": 13,
   "id": "77501620-03c7-4632-ab32-0e3b4e22c308",
   "metadata": {},
   "outputs": [
    {
     "name": "stdout",
     "output_type": "stream",
     "text": [
      "Pool 0 Price in USDC per ETH (at Tx: 0x...0638): $3223.10\n",
      "Pool 1 Price in USDC per ETH (at Tx: 0x...2131): $3214.52\n",
      "Difference in price: $-8.58\n"
     ]
    }
   ],
   "source": [
    "# row to pick for the swap...used just for the example.\n",
    "pool0_price_in_USDC_per_ETH  = ((p0[\"sqrtPriceX96\"].iloc[0] / 2**96)**2 / 1e12) **-1\n",
    "pool1_price_in_USDC_per_ETH  = ((p1[\"sqrtPriceX96\"].iloc[0] / 2**96)**2 / 1e12) **-1\n",
    "\n",
    "print(f\"Pool 0 Price in USDC per ETH (at Tx: 0x...{p0['transactionHash'].iloc[0][-4:]}): ${pool0_price_in_USDC_per_ETH:.2f}\")\n",
    "print(f\"Pool 1 Price in USDC per ETH (at Tx: 0x...{p1['transactionHash'].iloc[0][-4:]}): ${pool1_price_in_USDC_per_ETH:.2f}\")\n",
    "print(f\"Difference in price: ${pool1_price_in_USDC_per_ETH-pool0_price_in_USDC_per_ETH:.2f}\")"
   ]
  },
  {
   "cell_type": "markdown",
   "id": "bc5d9386-367b-4371-a6d0-5bef47f21438",
   "metadata": {},
   "source": [
    "**Get gas fees in ETH**\n",
    "\n",
    "Gas fees for a transaction include all the 'work' done. There is a rate of fee per unit of work (i.e. gasPrice) and then there is the work done (i.e. gasUsed).  gasPrice and gasUsed is in gwei which is 1e9 of an ETH.  so to convert to eth, each value needs to be converted with the 1e9 scaling."
   ]
  },
  {
   "cell_type": "code",
   "execution_count": 14,
   "id": "07bd7a32-de69-4074-b774-331077a1812d",
   "metadata": {},
   "outputs": [
    {
     "name": "stdout",
     "output_type": "stream",
     "text": [
      "Gas Price in ETH per unit: 8.199025182\n",
      "Gas Used in GWEI units for Uniswap Transaction: 0.0\n",
      "Gas fees for this Transaction in ETH: 0.00000 (ETH)\n",
      "Gas fees for this Transaction in USDC: $0.00 (USDC)\n"
     ]
    }
   ],
   "source": [
    "gas_price_eth_tokens_per_unit = int(p0['gasPrice'].iloc[0])/GWEI_SCALER\n",
    "gas_used_units = int(p0['gasUsed'].iloc[0]) / GWEI_SCALER\n",
    "gas_fees_eth_tokens  = gas_price_eth_tokens_per_unit* gas_used_units\n",
    "gas_fees_usdc_tokens = pool0_price_in_USDC_per_ETH * gas_fees_eth_tokens \n",
    "print(f\"Gas Price in ETH per unit: {gas_price_eth_tokens_per_unit}\")\n",
    "print(f\"Gas Used in GWEI units for Uniswap Transaction: {gas_used_units}\")\n",
    "print(f\"Gas fees for this Transaction in ETH: {gas_fees_eth_tokens:.5f} (ETH)\")\n",
    "print(f\"Gas fees for this Transaction in USDC: ${gas_fees_usdc_tokens:.2f} (USDC)\")"
   ]
  },
  {
   "cell_type": "code",
   "execution_count": null,
   "id": "b39a792a-4be3-4992-98d5-afba33400b2b",
   "metadata": {},
   "outputs": [],
   "source": []
  }
 ],
 "metadata": {
  "kernelspec": {
   "display_name": "ds210v2 (with Poetry)",
   "language": "python",
   "name": "ds210v2-py3.11"
  },
  "language_info": {
   "codemirror_mode": {
    "name": "ipython",
    "version": 3
   },
   "file_extension": ".py",
   "mimetype": "text/x-python",
   "name": "python",
   "nbconvert_exporter": "python",
   "pygments_lexer": "ipython3",
   "version": "3.11.9"
  }
 },
 "nbformat": 4,
 "nbformat_minor": 5
}
