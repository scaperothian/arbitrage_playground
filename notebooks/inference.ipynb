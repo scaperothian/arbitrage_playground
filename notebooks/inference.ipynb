{
 "cells": [
  {
   "cell_type": "markdown",
   "id": "a5543325-420c-4769-b63e-7e5f46da51b0",
   "metadata": {},
   "source": [
    "# Arbitrage Detection Inference \n",
    "Use two trained models to determine whether there will be an arbitrage opportunity."
   ]
  },
  {
   "cell_type": "code",
   "execution_count": 1,
   "id": "cdea41a4-9159-4bb6-86fe-93b4079f5c5b",
   "metadata": {},
   "outputs": [
    {
     "name": "stdout",
     "output_type": "stream",
     "text": [
      "/Users/das/DATASCI210/arbitrage_playground/notebooks\n"
     ]
    }
   ],
   "source": [
    "import sys\n",
    "import os\n",
    "import pandas as pd\n",
    "from sklearn.metrics import root_mean_squared_error, r2_score\n",
    "\n",
    "import matplotlib.pyplot as plt\n",
    "import matplotlib.dates as mdates\n",
    "\n",
    "from IPython.display import display\n",
    "\n",
    "%matplotlib inline\n",
    "print(os.getcwd())"
   ]
  },
  {
   "cell_type": "code",
   "execution_count": 2,
   "id": "dc5ae24c-1391-4a4b-9060-9de5820c1353",
   "metadata": {},
   "outputs": [
    {
     "name": "stdout",
     "output_type": "stream",
     "text": [
      "Moving active path to parent directory\n",
      "/Users/das/DATASCI210/arbitrage_playground\n"
     ]
    }
   ],
   "source": [
    "# change the active path to the parent directory \n",
    "if True: \n",
    "    print(\"Moving active path to parent directory\")\n",
    "    os.chdir('..')\n",
    "    print(os.getcwd())"
   ]
  },
  {
   "cell_type": "code",
   "execution_count": 7,
   "id": "9c21a358-9663-455d-8391-c8425ff4cb94",
   "metadata": {},
   "outputs": [],
   "source": [
    "# import test code\n",
    "from src.arbutils import load_model, etherscan_request, merge_pool_data, LGBM_Preprocessing, XGB_preprocessing, calculate_min_investment\n"
   ]
  },
  {
   "cell_type": "code",
   "execution_count": 28,
   "id": "416bb87b-7819-4f69-bff0-379fd6a60ca7",
   "metadata": {},
   "outputs": [],
   "source": [
    "# API inputs: TODO - put these in a config file...\n",
    "api_key = \"16FCD3FTVWC3KDK17WS5PTWRQX1E2WEYV2\"\n",
    "pool0_address = \"0x8ad599c3a0ff1de082011efddc58f1908eb6e6d8\"\n",
    "pool1_address = \"0x88e6a0c2ddd26feeb64f039a2c41296fcb3f5640\"\n",
    "\n",
    "price_model_name = \"percent_change_1min_forecast_LGBM\"\n",
    "gasfee_model_name = \"gas_fees_1min_forecast_XGBoost\""
   ]
  },
  {
   "cell_type": "code",
   "execution_count": 29,
   "id": "809bfdc1-361d-4e19-a7ea-4743f634bab1",
   "metadata": {},
   "outputs": [
    {
     "name": "stdout",
     "output_type": "stream",
     "text": [
      "Model percent_change_1min_forecast_LGBM loaded successfully from /Users/das/DATASCI210/arbitrage_playground/models/percent_change_1min_forecast_LGBM.pkl\n",
      "Model gas_fees_1min_forecast_XGBoost loaded successfully from /Users/das/DATASCI210/arbitrage_playground/models/gas_fees_1min_forecast_XGBoost.pkl\n"
     ]
    }
   ],
   "source": [
    "# fetch data from etherscan.io.\n",
    "p0 = etherscan_request('tokentx', api_key, address=pool0_address)\n",
    "p1 = etherscan_request('tokentx', api_key, address=pool1_address)\n",
    "\n",
    "# merge data from both pools.\n",
    "both_pools = merge_pool_data(p0,p1)\n",
    "\n",
    "# LGBM Preprocessing\n",
    "#\n",
    "# Creates LGBM features\n",
    "# Only using the features for predicting the latest value. \n",
    "# Other return arguments ignored.\n",
    "#\n",
    "_, X_pct, _, _ = LGBM_Preprocessing(both_pools,forecast_window_min=1)\n",
    "X_time = X_pct['time']\n",
    "X_pct = X_pct[['percent_change', 'rolling_mean_8', 'lag_1', 'lag_2']]\n",
    "lgbm_model = load_model(price_model_name)\n",
    "\n",
    "# XGBoost Preprocessing\n",
    "#\n",
    "# Creates XGBoost features\n",
    "# Only using the features for predicting the latest value. \n",
    "# Other return arguments ignored.\n",
    "#\n",
    "X_gas_fees, _, _ = XGB_preprocessing(both_pools,forecast_window_min=1)\n",
    "xgb_model = load_model(gasfee_model_name)\n",
    "\n",
    "\n",
    "y_pct_pred = lgbm_model.predict(X_pct)\n",
    "y_gas_fees_pred = xgb_model.predict(X_gas_fees)\n",
    "\n"
   ]
  },
  {
   "cell_type": "code",
   "execution_count": 30,
   "id": "cd763a7b-9ae7-476b-94ba-e49f3299c617",
   "metadata": {},
   "outputs": [
    {
     "data": {
      "text/html": [
       "<div>\n",
       "<style scoped>\n",
       "    .dataframe tbody tr th:only-of-type {\n",
       "        vertical-align: middle;\n",
       "    }\n",
       "\n",
       "    .dataframe tbody tr th {\n",
       "        vertical-align: top;\n",
       "    }\n",
       "\n",
       "    .dataframe thead th {\n",
       "        text-align: right;\n",
       "    }\n",
       "</style>\n",
       "<table border=\"1\" class=\"dataframe\">\n",
       "  <thead>\n",
       "    <tr style=\"text-align: right;\">\n",
       "      <th></th>\n",
       "      <th>time</th>\n",
       "      <th>total_gas_fees_prediction</th>\n",
       "      <th>percent_change_prediction</th>\n",
       "      <th>min_amount_to_invest</th>\n",
       "    </tr>\n",
       "  </thead>\n",
       "  <tbody>\n",
       "    <tr>\n",
       "      <th>2906</th>\n",
       "      <td>2024-12-30 06:30:47</td>\n",
       "      <td>25.508982</td>\n",
       "      <td>0.000040</td>\n",
       "      <td>10044.197637</td>\n",
       "    </tr>\n",
       "    <tr>\n",
       "      <th>2907</th>\n",
       "      <td>2024-12-30 06:30:59</td>\n",
       "      <td>25.574257</td>\n",
       "      <td>-0.000727</td>\n",
       "      <td>-14405.022298</td>\n",
       "    </tr>\n",
       "    <tr>\n",
       "      <th>2908</th>\n",
       "      <td>2024-12-30 06:31:23</td>\n",
       "      <td>24.625664</td>\n",
       "      <td>-0.001054</td>\n",
       "      <td>-16994.747003</td>\n",
       "    </tr>\n",
       "    <tr>\n",
       "      <th>2909</th>\n",
       "      <td>2024-12-30 06:31:35</td>\n",
       "      <td>26.080437</td>\n",
       "      <td>-0.001004</td>\n",
       "      <td>-17400.943380</td>\n",
       "    </tr>\n",
       "  </tbody>\n",
       "</table>\n",
       "</div>"
      ],
      "text/plain": [
       "                    time  total_gas_fees_prediction  \\\n",
       "2906 2024-12-30 06:30:47                  25.508982   \n",
       "2907 2024-12-30 06:30:59                  25.574257   \n",
       "2908 2024-12-30 06:31:23                  24.625664   \n",
       "2909 2024-12-30 06:31:35                  26.080437   \n",
       "\n",
       "      percent_change_prediction  min_amount_to_invest  \n",
       "2906                   0.000040          10044.197637  \n",
       "2907                  -0.000727         -14405.022298  \n",
       "2908                  -0.001054         -16994.747003  \n",
       "2909                  -0.001004         -17400.943380  "
      ]
     },
     "execution_count": 30,
     "metadata": {},
     "output_type": "execute_result"
    }
   ],
   "source": [
    "pred_dict = {\n",
    "    'time':X_time,\n",
    "    'total_gas_fees_prediction':y_gas_fees_pred,\n",
    "    'percent_change_prediction':y_pct_pred,\n",
    "}\n",
    "\n",
    "df = calculate_min_investment(pd.DataFrame(pred_dict),'total_gas_fees_prediction','percent_change_prediction')\n",
    "df.head()"
   ]
  },
  {
   "cell_type": "code",
   "execution_count": null,
   "id": "fee00c38-44b3-48d2-82f1-dbad8c484ee2",
   "metadata": {},
   "outputs": [],
   "source": []
  }
 ],
 "metadata": {
  "kernelspec": {
   "display_name": "Streamlit (with Poetry)",
   "language": "python",
   "name": "streamlit"
  },
  "language_info": {
   "codemirror_mode": {
    "name": "ipython",
    "version": 3
   },
   "file_extension": ".py",
   "mimetype": "text/x-python",
   "name": "python",
   "nbconvert_exporter": "python",
   "pygments_lexer": "ipython3",
   "version": "3.13.1"
  }
 },
 "nbformat": 4,
 "nbformat_minor": 5
}
