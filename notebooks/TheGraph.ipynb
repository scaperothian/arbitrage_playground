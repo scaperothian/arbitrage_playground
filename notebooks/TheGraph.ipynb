{
 "cells": [
  {
   "cell_type": "markdown",
   "id": "9c58d203-9ac9-4e04-8901-1b414acf3a22",
   "metadata": {},
   "source": [
    "## Etherscan Notebook \n",
    "\n",
    "Looking at how to derive price for tokens and gas fees by pool.  Pool example can be found [here](https://app.uniswap.org/explore/pools/ethereum/0x88e6A0c2dDD26FEEb64F039a2c41296FcB3f5640)"
   ]
  },
  {
   "cell_type": "code",
   "execution_count": 2,
   "id": "00b58244-2683-4e84-8ebb-ebb0f59a833b",
   "metadata": {},
   "outputs": [],
   "source": [
    "import requests\n",
    "import time \n",
    "import os\n",
    "import pandas as pd\n",
    "import numpy as np\n",
    "from web3 import Web3"
   ]
  },
  {
   "cell_type": "code",
   "execution_count": 3,
   "id": "0c4e358d-4b12-441f-8c6b-9e9152680818",
   "metadata": {},
   "outputs": [
    {
     "name": "stdout",
     "output_type": "stream",
     "text": [
      "Moving active path to parent directory\n",
      "/Users/das/DATASCI210/arbitrage_playground\n"
     ]
    }
   ],
   "source": [
    "# change the active path to the parent directory \n",
    "if True: \n",
    "    print(\"Moving active path to parent directory\")\n",
    "    os.chdir('..')\n",
    "    print(os.getcwd())"
   ]
  },
  {
   "cell_type": "code",
   "execution_count": 4,
   "id": "a6976cd8-9991-4d9a-afd0-1a4a625d764e",
   "metadata": {},
   "outputs": [],
   "source": [
    "import src.arbutils as arbutils"
   ]
  },
  {
   "cell_type": "code",
   "execution_count": 5,
   "id": "5de8f532-aee9-4cce-8fa3-3d93997e37ce",
   "metadata": {},
   "outputs": [
    {
     "name": "stdout",
     "output_type": "stream",
     "text": [
      "Found GRAPH API Key!\n",
      "Found ETHERSCAN API Key!\n"
     ]
    }
   ],
   "source": [
    "API_KEY =  os.getenv('GRAPH_API_KEY')\n",
    "API_KEY2 =  os.getenv('ETHERSCAN_API_KEY')\n",
    "\n",
    "if not API_KEY:\n",
    "    print(\"No GRAPH_API_KEY found\")\n",
    "else:\n",
    "    print(\"Found GRAPH API Key!\")\n",
    "\n",
    "\n",
    "if not API_KEY2:\n",
    "    print(\"No ETHERSCAN_API_KEY found\")\n",
    "else:\n",
    "    print(\"Found ETHERSCAN API Key!\")"
   ]
  },
  {
   "cell_type": "code",
   "execution_count": 6,
   "id": "cb658211-fb00-4d06-8e70-d6e1c9e88869",
   "metadata": {},
   "outputs": [],
   "source": [
    "POOL0_ADDRESS=\"0x88e6a0c2ddd26feeb64f039a2c41296fcb3f5640\" # USDC / WETH (0.05%) \n",
    "POOL0_TXN_FEE = 0.0005\n",
    "POOL1_ADDRESS=\"0x8ad599c3a0ff1de082011efddc58f1908eb6e6d8\" # USDC / WETH (0.3%)\n",
    "POOl1_TXN_FEE = 0.003\n",
    "\n",
    "GWEI_SCALER = 1e9"
   ]
  },
  {
   "cell_type": "code",
   "execution_count": 7,
   "id": "9aa4ddc5-c032-4602-b014-724f63dcf861",
   "metadata": {},
   "outputs": [
    {
     "name": "stdout",
     "output_type": "stream",
     "text": [
      "Starting from timestamp: 1736898871\n",
      "query number 0 1736898871 1736902471\n",
      "Batch 1, Total swaps: 264, Avg Fetch Time: 0.5s\n",
      "query number 1 1736902463 1736902471\n",
      "Starting from timestamp: 1736898871\n",
      "query number 0 1736898871 1736902471\n",
      "Batch 1, Total swaps: 9, Avg Fetch Time: 0.2s\n",
      "query number 1 1736901407 1736902471\n",
      "Are there any NaNs in the DataFrame? False\n"
     ]
    },
    {
     "name": "stderr",
     "output_type": "stream",
     "text": [
      "/Users/das/DATASCI210/arbitrage_playground/src/arbutils.py:540: FutureWarning: Downcasting object dtype arrays on .fillna, .ffill, .bfill is deprecated and will change in a future version. Call result.infer_objects(copy=False) instead. To opt-in to the future behavior, set `pd.set_option('future.no_silent_downcasting', True)`\n",
      "  both_pools = both_pools.ffill().reset_index(drop=True)\n"
     ]
    }
   ],
   "source": [
    "p0 = arbutils.thegraph_request(API_KEY, \n",
    "                            POOL0_ADDRESS,\n",
    "                            new_date=None, \n",
    "                            old_date=None, \n",
    "                            data_path=None, \n",
    "                            checkpoint_file=None)\n",
    "\n",
    "p1 = arbutils.thegraph_request(API_KEY, \n",
    "                            POOL1_ADDRESS,\n",
    "                            new_date=None, \n",
    "                            old_date=None, \n",
    "                            data_path=None, \n",
    "                            checkpoint_file=None)\n",
    "\n",
    "merged_pools = arbutils.merge_pool_data_v2(p0, \n",
    "                                           POOL0_TXN_FEE, \n",
    "                                           p1, \n",
    "                                           POOl1_TXN_FEE)\n"
   ]
  },
  {
   "cell_type": "code",
   "execution_count": 8,
   "id": "13fb41ac-7ca4-4d82-99e3-0f11e826f0a0",
   "metadata": {},
   "outputs": [
    {
     "data": {
      "text/plain": [
       "Index(['transactionHash', 'datetime', 'timeStamp', 'sqrtPriceX96',\n",
       "       'blockNumber', 'gasPrice', 'gasUsed', 'tick', 'amount0', 'amount1',\n",
       "       'liquidity'],\n",
       "      dtype='object')"
      ]
     },
     "execution_count": 8,
     "metadata": {},
     "output_type": "execute_result"
    }
   ],
   "source": [
    "p0.columns"
   ]
  },
  {
   "cell_type": "code",
   "execution_count": 9,
   "id": "f946ef82-e594-4de7-9602-e3cd69bfef1d",
   "metadata": {},
   "outputs": [
    {
     "data": {
      "text/html": [
       "<div>\n",
       "<style scoped>\n",
       "    .dataframe tbody tr th:only-of-type {\n",
       "        vertical-align: middle;\n",
       "    }\n",
       "\n",
       "    .dataframe tbody tr th {\n",
       "        vertical-align: top;\n",
       "    }\n",
       "\n",
       "    .dataframe thead th {\n",
       "        text-align: right;\n",
       "    }\n",
       "</style>\n",
       "<table border=\"1\" class=\"dataframe\">\n",
       "  <thead>\n",
       "    <tr style=\"text-align: right;\">\n",
       "      <th></th>\n",
       "      <th>transactionHash</th>\n",
       "      <th>datetime</th>\n",
       "      <th>timeStamp</th>\n",
       "      <th>sqrtPriceX96</th>\n",
       "      <th>blockNumber</th>\n",
       "      <th>gasPrice</th>\n",
       "      <th>gasUsed</th>\n",
       "      <th>tick</th>\n",
       "      <th>amount0</th>\n",
       "      <th>amount1</th>\n",
       "      <th>liquidity</th>\n",
       "    </tr>\n",
       "  </thead>\n",
       "  <tbody>\n",
       "    <tr>\n",
       "      <th>0</th>\n",
       "      <td>0xdfe8deaecde582e9da2e906d1eef85c6d388764d422d...</td>\n",
       "      <td>2025-01-14 23:54:59+00:00</td>\n",
       "      <td>1736898899</td>\n",
       "      <td>1.395327e+33</td>\n",
       "      <td>21626136</td>\n",
       "      <td>3.780745e+09</td>\n",
       "      <td>0.0</td>\n",
       "      <td>195535.0</td>\n",
       "      <td>-9.990000</td>\n",
       "      <td>0.003100</td>\n",
       "      <td>-1.0</td>\n",
       "    </tr>\n",
       "    <tr>\n",
       "      <th>1</th>\n",
       "      <td>0x464b2f8c761ef279c897ecba0a261d4f5285791573f8...</td>\n",
       "      <td>2025-01-14 23:55:47+00:00</td>\n",
       "      <td>1736898947</td>\n",
       "      <td>1.395233e+33</td>\n",
       "      <td>21626140</td>\n",
       "      <td>5.601803e+09</td>\n",
       "      <td>0.0</td>\n",
       "      <td>195534.0</td>\n",
       "      <td>3000.000000</td>\n",
       "      <td>-0.929916</td>\n",
       "      <td>-1.0</td>\n",
       "    </tr>\n",
       "    <tr>\n",
       "      <th>2</th>\n",
       "      <td>0xc00b302ee9816178fa9150feecd8681e94095ad15771...</td>\n",
       "      <td>2025-01-14 23:55:47+00:00</td>\n",
       "      <td>1736898947</td>\n",
       "      <td>1.395251e+33</td>\n",
       "      <td>21626140</td>\n",
       "      <td>5.601803e+09</td>\n",
       "      <td>0.0</td>\n",
       "      <td>195534.0</td>\n",
       "      <td>12636.350439</td>\n",
       "      <td>-3.917180</td>\n",
       "      <td>-1.0</td>\n",
       "    </tr>\n",
       "    <tr>\n",
       "      <th>3</th>\n",
       "      <td>0x95e68d5b2272b5cc793ee5cb37e506fc70342e2695af...</td>\n",
       "      <td>2025-01-14 23:56:23+00:00</td>\n",
       "      <td>1736898983</td>\n",
       "      <td>1.395158e+33</td>\n",
       "      <td>21626143</td>\n",
       "      <td>5.859279e+09</td>\n",
       "      <td>0.0</td>\n",
       "      <td>195533.0</td>\n",
       "      <td>12381.371675</td>\n",
       "      <td>-3.837624</td>\n",
       "      <td>-1.0</td>\n",
       "    </tr>\n",
       "    <tr>\n",
       "      <th>4</th>\n",
       "      <td>0xe45a872f586eac91ee9af049ea64d13826a85fd3ce78...</td>\n",
       "      <td>2025-01-14 23:56:47+00:00</td>\n",
       "      <td>1736899007</td>\n",
       "      <td>1.395158e+33</td>\n",
       "      <td>21626145</td>\n",
       "      <td>5.545332e+09</td>\n",
       "      <td>0.0</td>\n",
       "      <td>195533.0</td>\n",
       "      <td>-15.975276</td>\n",
       "      <td>0.004956</td>\n",
       "      <td>-1.0</td>\n",
       "    </tr>\n",
       "  </tbody>\n",
       "</table>\n",
       "</div>"
      ],
      "text/plain": [
       "                                     transactionHash  \\\n",
       "0  0xdfe8deaecde582e9da2e906d1eef85c6d388764d422d...   \n",
       "1  0x464b2f8c761ef279c897ecba0a261d4f5285791573f8...   \n",
       "2  0xc00b302ee9816178fa9150feecd8681e94095ad15771...   \n",
       "3  0x95e68d5b2272b5cc793ee5cb37e506fc70342e2695af...   \n",
       "4  0xe45a872f586eac91ee9af049ea64d13826a85fd3ce78...   \n",
       "\n",
       "                   datetime   timeStamp  sqrtPriceX96  blockNumber  \\\n",
       "0 2025-01-14 23:54:59+00:00  1736898899  1.395327e+33     21626136   \n",
       "1 2025-01-14 23:55:47+00:00  1736898947  1.395233e+33     21626140   \n",
       "2 2025-01-14 23:55:47+00:00  1736898947  1.395251e+33     21626140   \n",
       "3 2025-01-14 23:56:23+00:00  1736898983  1.395158e+33     21626143   \n",
       "4 2025-01-14 23:56:47+00:00  1736899007  1.395158e+33     21626145   \n",
       "\n",
       "       gasPrice  gasUsed      tick       amount0   amount1  liquidity  \n",
       "0  3.780745e+09      0.0  195535.0     -9.990000  0.003100       -1.0  \n",
       "1  5.601803e+09      0.0  195534.0   3000.000000 -0.929916       -1.0  \n",
       "2  5.601803e+09      0.0  195534.0  12636.350439 -3.917180       -1.0  \n",
       "3  5.859279e+09      0.0  195533.0  12381.371675 -3.837624       -1.0  \n",
       "4  5.545332e+09      0.0  195533.0    -15.975276  0.004956       -1.0  "
      ]
     },
     "execution_count": 9,
     "metadata": {},
     "output_type": "execute_result"
    }
   ],
   "source": [
    "p0.head()"
   ]
  },
  {
   "cell_type": "markdown",
   "id": "fe416147-b313-41aa-9f5a-1d2e99a28c11",
   "metadata": {},
   "source": [
    "Now that I have information at the transaction level.  I would like to parse specific transactions to extract the gasUsed value which is the only value missing for our current model.   Below we will fetch token transfers based on the blocks that we have in the data frame above."
   ]
  },
  {
   "cell_type": "code",
   "execution_count": 13,
   "id": "34d87501-804a-439e-870d-8e4093f6762d",
   "metadata": {},
   "outputs": [],
   "source": [
    "def fetch_tokentx_data(etherscan_api_key, pool_address, start_block=0, end_block=99999999):\n",
    "\n",
    "    base_url = 'https://api.etherscan.io/api'\n",
    "\n",
    "    params = {\n",
    "        'module': 'account',\n",
    "        'action': 'tokentx',\n",
    "        'address': pool_address,\n",
    "        'startblock': start_block,\n",
    "        'endblock': end_block,\n",
    "        'sort': 'desc',\n",
    "        'apikey': etherscan_api_key\n",
    "    }\n",
    "    \n",
    "    \n",
    "    response = requests.get(base_url, params=params)\n",
    "    if response.status_code != 200:\n",
    "        #st.error(f\"API request failed with status code {response.status_code}\")\n",
    "        raise Exception(f\"API request failed with status code {response.status_code}\")\n",
    "    \n",
    "    data = response.json()\n",
    "    if data['status'] != '1':\n",
    "        #st.error(f\"API returned an error: {data['result']}\")\n",
    "        raise Exception(f\"API returned an error: {data['result']}\")\n",
    "    \n",
    "    df = pd.DataFrame(data['result'])\n",
    "    \n",
    "    expected_columns = ['hash', 'blockNumber', 'timeStamp', 'from', 'to', 'gas', 'gasPrice', 'gasUsed', 'cumulativeGasUsed', 'confirmations', 'tokenSymbol', 'value', 'tokenName']\n",
    "    \n",
    "    for col in expected_columns:\n",
    "        if col not in df.columns:\n",
    "            raise Exception(f\"Expected column '{col}' is missing from the response\")\n",
    "    \n",
    "    df.sort_values(by='timeStamp')\n",
    "    \n",
    "    consolidated_data = {}\n",
    "\n",
    "    for index, row in df.iterrows():\n",
    "        tx_hash = row['hash']\n",
    "        \n",
    "        if tx_hash not in consolidated_data:\n",
    "            consolidated_data[tx_hash] = {\n",
    "                'blockNumber': np.int32(row['blockNumber']),\n",
    "                'timeStamp': int(row['timeStamp']),\n",
    "                'transactionHash': tx_hash,\n",
    "                'from': row['from'],\n",
    "                'to': row['to'],\n",
    "                'WETH_value': 0,\n",
    "                'USDC_value': 0,\n",
    "                'tokenName_WETH': '',\n",
    "                'tokenName_USDC': '',\n",
    "                'gas': float(row['gas']),\n",
    "                'gasPrice': float(row['gasPrice']),\n",
    "                'gasUsed': float(row['gasUsed']),\n",
    "                'cumulativeGasUsed': float(row['cumulativeGasUsed']),\n",
    "                'confirmations': row['confirmations']\n",
    "            }\n",
    "        \n",
    "        if row['tokenSymbol'] == 'WETH':\n",
    "            consolidated_data[tx_hash]['WETH_value'] = float(row['value'])\n",
    "            consolidated_data[tx_hash]['tokenName_WETH'] = row['tokenName']\n",
    "        elif row['tokenSymbol'] == 'USDC':\n",
    "            consolidated_data[tx_hash]['USDC_value'] = float(row['value'])\n",
    "            consolidated_data[tx_hash]['tokenName_USDC'] = row['tokenName']\n",
    "\n",
    "    final_df = pd.DataFrame.from_dict(consolidated_data, orient='index').reset_index(drop=True)\n",
    "\n",
    "    return final_df.sort_values(by='timeStamp')"
   ]
  },
  {
   "cell_type": "markdown",
   "id": "3c4a3943-e671-4b6f-a649-7c48fbe48031",
   "metadata": {},
   "source": [
    "Here we can access the list of blocks that we need to get the gasUsed values for..."
   ]
  },
  {
   "cell_type": "code",
   "execution_count": 65,
   "id": "f703770d-647c-4557-ad1c-3db4da63d8fa",
   "metadata": {},
   "outputs": [
    {
     "name": "stdout",
     "output_type": "stream",
     "text": [
      "Start Block: 21626136\n",
      "End Block: 21626431\n"
     ]
    }
   ],
   "source": [
    "# Example usage\n",
    "startblock = p0['blockNumber'].iloc[0]\n",
    "endblock = p0['blockNumber'].iloc[-1]\n",
    "print(f\"Start Block: {startblock}\")\n",
    "print(f\"End Block: {endblock}\")"
   ]
  },
  {
   "cell_type": "markdown",
   "id": "816a98cd-77b5-4ec0-913b-8e51b337bddd",
   "metadata": {},
   "source": [
    "Use the fetch_tokentx_data method to fetch the token transfers in that block range from Etherscan..."
   ]
  },
  {
   "cell_type": "code",
   "execution_count": 77,
   "id": "4846a664-bcb7-4e33-8aef-532d15b002dc",
   "metadata": {
    "scrolled": true
   },
   "outputs": [],
   "source": [
    "p0_tokentx = fetch_tokentx_data(API_KEY2, POOL0_ADDRESS, start_block=startblock, end_block=endblock)\n",
    "p1_tokentx = fetch_tokentx_data(API_KEY2, POOL1_ADDRESS, start_block=startblock, end_block=endblock)"
   ]
  },
  {
   "cell_type": "code",
   "execution_count": 18,
   "id": "31074c51-04ac-4c51-81f2-f9b5b3a045b3",
   "metadata": {},
   "outputs": [
    {
     "data": {
      "text/html": [
       "<div>\n",
       "<style scoped>\n",
       "    .dataframe tbody tr th:only-of-type {\n",
       "        vertical-align: middle;\n",
       "    }\n",
       "\n",
       "    .dataframe tbody tr th {\n",
       "        vertical-align: top;\n",
       "    }\n",
       "\n",
       "    .dataframe thead th {\n",
       "        text-align: right;\n",
       "    }\n",
       "</style>\n",
       "<table border=\"1\" class=\"dataframe\">\n",
       "  <thead>\n",
       "    <tr style=\"text-align: right;\">\n",
       "      <th></th>\n",
       "      <th>blockNumber</th>\n",
       "      <th>timeStamp</th>\n",
       "      <th>transactionHash</th>\n",
       "      <th>from</th>\n",
       "      <th>to</th>\n",
       "      <th>WETH_value</th>\n",
       "      <th>USDC_value</th>\n",
       "      <th>tokenName_WETH</th>\n",
       "      <th>tokenName_USDC</th>\n",
       "      <th>gas</th>\n",
       "      <th>gasPrice</th>\n",
       "      <th>gasUsed</th>\n",
       "      <th>cumulativeGasUsed</th>\n",
       "      <th>confirmations</th>\n",
       "    </tr>\n",
       "  </thead>\n",
       "  <tbody>\n",
       "    <tr>\n",
       "      <th>228</th>\n",
       "      <td>21626136</td>\n",
       "      <td>1736898899</td>\n",
       "      <td>0xdfe8deaecde582e9da2e906d1eef85c6d388764d422d...</td>\n",
       "      <td>0x3fc91a3afd70395cd496c647d5a6cc9d4b2b7fad</td>\n",
       "      <td>0x88e6a0c2ddd26feeb64f039a2c41296fcb3f5640</td>\n",
       "      <td>3.100098e+15</td>\n",
       "      <td>9.990000e+06</td>\n",
       "      <td>Wrapped Ether</td>\n",
       "      <td>USDC</td>\n",
       "      <td>641134.0</td>\n",
       "      <td>3.780745e+09</td>\n",
       "      <td>229689.0</td>\n",
       "      <td>17995123.0</td>\n",
       "      <td>310</td>\n",
       "    </tr>\n",
       "    <tr>\n",
       "      <th>227</th>\n",
       "      <td>21626140</td>\n",
       "      <td>1736898947</td>\n",
       "      <td>0xc00b302ee9816178fa9150feecd8681e94095ad15771...</td>\n",
       "      <td>0x85ccdcf580caf8a3674d94f3d6c63304674a8e09</td>\n",
       "      <td>0x88e6a0c2ddd26feeb64f039a2c41296fcb3f5640</td>\n",
       "      <td>3.917180e+18</td>\n",
       "      <td>1.263635e+10</td>\n",
       "      <td>Wrapped Ether</td>\n",
       "      <td>USDC</td>\n",
       "      <td>320140.0</td>\n",
       "      <td>5.601803e+09</td>\n",
       "      <td>250214.0</td>\n",
       "      <td>1910974.0</td>\n",
       "      <td>306</td>\n",
       "    </tr>\n",
       "    <tr>\n",
       "      <th>226</th>\n",
       "      <td>21626140</td>\n",
       "      <td>1736898947</td>\n",
       "      <td>0x464b2f8c761ef279c897ecba0a261d4f5285791573f8...</td>\n",
       "      <td>0xb355a5db651ba12f3fcc18529f140a9597616579</td>\n",
       "      <td>0x88e6a0c2ddd26feeb64f039a2c41296fcb3f5640</td>\n",
       "      <td>9.299161e+17</td>\n",
       "      <td>3.000000e+09</td>\n",
       "      <td>Wrapped Ether</td>\n",
       "      <td>USDC</td>\n",
       "      <td>340382.0</td>\n",
       "      <td>5.601803e+09</td>\n",
       "      <td>249237.0</td>\n",
       "      <td>2290443.0</td>\n",
       "      <td>306</td>\n",
       "    </tr>\n",
       "    <tr>\n",
       "      <th>225</th>\n",
       "      <td>21626142</td>\n",
       "      <td>1736898971</td>\n",
       "      <td>0x4714b333010385e3154bfeb62068031835bc6cd3e5ad...</td>\n",
       "      <td>0x88e6a0c2ddd26feeb64f039a2c41296fcb3f5640</td>\n",
       "      <td>0xc36442b4a4522e871399cd717abdd847ab11fe88</td>\n",
       "      <td>1.388647e+12</td>\n",
       "      <td>4.458000e+03</td>\n",
       "      <td>Wrapped Ether</td>\n",
       "      <td>USDC</td>\n",
       "      <td>246194.0</td>\n",
       "      <td>3.804275e+09</td>\n",
       "      <td>194740.0</td>\n",
       "      <td>14411826.0</td>\n",
       "      <td>304</td>\n",
       "    </tr>\n",
       "    <tr>\n",
       "      <th>224</th>\n",
       "      <td>21626143</td>\n",
       "      <td>1736898983</td>\n",
       "      <td>0x95e68d5b2272b5cc793ee5cb37e506fc70342e2695af...</td>\n",
       "      <td>0x3fc91a3afd70395cd496c647d5a6cc9d4b2b7fad</td>\n",
       "      <td>0x88e6a0c2ddd26feeb64f039a2c41296fcb3f5640</td>\n",
       "      <td>3.837624e+18</td>\n",
       "      <td>1.238137e+10</td>\n",
       "      <td>Wrapped Ether</td>\n",
       "      <td>USDC</td>\n",
       "      <td>405547.0</td>\n",
       "      <td>5.859279e+09</td>\n",
       "      <td>305361.0</td>\n",
       "      <td>10851488.0</td>\n",
       "      <td>303</td>\n",
       "    </tr>\n",
       "  </tbody>\n",
       "</table>\n",
       "</div>"
      ],
      "text/plain": [
       "     blockNumber   timeStamp  \\\n",
       "228     21626136  1736898899   \n",
       "227     21626140  1736898947   \n",
       "226     21626140  1736898947   \n",
       "225     21626142  1736898971   \n",
       "224     21626143  1736898983   \n",
       "\n",
       "                                       transactionHash  \\\n",
       "228  0xdfe8deaecde582e9da2e906d1eef85c6d388764d422d...   \n",
       "227  0xc00b302ee9816178fa9150feecd8681e94095ad15771...   \n",
       "226  0x464b2f8c761ef279c897ecba0a261d4f5285791573f8...   \n",
       "225  0x4714b333010385e3154bfeb62068031835bc6cd3e5ad...   \n",
       "224  0x95e68d5b2272b5cc793ee5cb37e506fc70342e2695af...   \n",
       "\n",
       "                                           from  \\\n",
       "228  0x3fc91a3afd70395cd496c647d5a6cc9d4b2b7fad   \n",
       "227  0x85ccdcf580caf8a3674d94f3d6c63304674a8e09   \n",
       "226  0xb355a5db651ba12f3fcc18529f140a9597616579   \n",
       "225  0x88e6a0c2ddd26feeb64f039a2c41296fcb3f5640   \n",
       "224  0x3fc91a3afd70395cd496c647d5a6cc9d4b2b7fad   \n",
       "\n",
       "                                             to    WETH_value    USDC_value  \\\n",
       "228  0x88e6a0c2ddd26feeb64f039a2c41296fcb3f5640  3.100098e+15  9.990000e+06   \n",
       "227  0x88e6a0c2ddd26feeb64f039a2c41296fcb3f5640  3.917180e+18  1.263635e+10   \n",
       "226  0x88e6a0c2ddd26feeb64f039a2c41296fcb3f5640  9.299161e+17  3.000000e+09   \n",
       "225  0xc36442b4a4522e871399cd717abdd847ab11fe88  1.388647e+12  4.458000e+03   \n",
       "224  0x88e6a0c2ddd26feeb64f039a2c41296fcb3f5640  3.837624e+18  1.238137e+10   \n",
       "\n",
       "    tokenName_WETH tokenName_USDC       gas      gasPrice   gasUsed  \\\n",
       "228  Wrapped Ether           USDC  641134.0  3.780745e+09  229689.0   \n",
       "227  Wrapped Ether           USDC  320140.0  5.601803e+09  250214.0   \n",
       "226  Wrapped Ether           USDC  340382.0  5.601803e+09  249237.0   \n",
       "225  Wrapped Ether           USDC  246194.0  3.804275e+09  194740.0   \n",
       "224  Wrapped Ether           USDC  405547.0  5.859279e+09  305361.0   \n",
       "\n",
       "     cumulativeGasUsed confirmations  \n",
       "228         17995123.0           310  \n",
       "227          1910974.0           306  \n",
       "226          2290443.0           306  \n",
       "225         14411826.0           304  \n",
       "224         10851488.0           303  "
      ]
     },
     "execution_count": 18,
     "metadata": {},
     "output_type": "execute_result"
    }
   ],
   "source": [
    "p0_tokentx.head()"
   ]
  },
  {
   "cell_type": "markdown",
   "id": "92ef9cfa-7477-4d61-815c-e33a24f4d1fb",
   "metadata": {},
   "source": [
    "Below we can see that the token transfer has slightly more blocks available to it. this is because we really only care about swaps in this context and token transfer includes other types of transactions."
   ]
  },
  {
   "cell_type": "code",
   "execution_count": 67,
   "id": "8294d755-3571-46fe-a69a-9cb1b6fa2ba3",
   "metadata": {},
   "outputs": [
    {
     "name": "stdout",
     "output_type": "stream",
     "text": [
      "p0 number of unique blocks: 157\n",
      "p0_tokentx number of unique blocks: 161\n"
     ]
    }
   ],
   "source": [
    "print(f\"p0 number of unique blocks: {p0.blockNumber.unique().shape[0]}\")\n",
    "print(f\"p0_tokentx number of unique blocks: {p0_tokentx.blockNumber.unique().shape[0]}\")"
   ]
  },
  {
   "cell_type": "code",
   "execution_count": 75,
   "id": "ca816f16-be04-40cb-8a85-dbf9bff18b5a",
   "metadata": {},
   "outputs": [
    {
     "name": "stdout",
     "output_type": "stream",
     "text": [
      "157\n"
     ]
    }
   ],
   "source": [
    "block_cnt = 0\n",
    "for block in list(p0['blockNumber'].unique()):\n",
    "  if block in list(p0_new.blockNumber.unique()):\n",
    "      block_cnt += 1\n",
    "print(f\"{block_cnt}\")"
   ]
  },
  {
   "cell_type": "markdown",
   "id": "2f2d476d-b27c-4074-b526-f0d752af67dc",
   "metadata": {},
   "source": [
    "In order to merge the data frames we take only what we need from p0_tokentx (i.e. gasUsed). So we drop 'gasUsed' from p0 and we only merge 'gasUsed' from p0_token.  We can see that we end up with the same number of blocks and we can see that the p0_new has now integrated the missing column."
   ]
  },
  {
   "cell_type": "code",
   "execution_count": 78,
   "id": "3267607f-9284-48a1-9690-7106fdfa2e2a",
   "metadata": {},
   "outputs": [
    {
     "name": "stdout",
     "output_type": "stream",
     "text": [
      "(157,)\n"
     ]
    },
    {
     "data": {
      "text/plain": [
       "Index(['transactionHash', 'datetime', 'timeStamp', 'sqrtPriceX96',\n",
       "       'blockNumber', 'gasPrice', 'tick', 'amount0', 'amount1', 'liquidity',\n",
       "       'gasUsed'],\n",
       "      dtype='object')"
      ]
     },
     "metadata": {},
     "output_type": "display_data"
    },
    {
     "data": {
      "text/html": [
       "<div>\n",
       "<style scoped>\n",
       "    .dataframe tbody tr th:only-of-type {\n",
       "        vertical-align: middle;\n",
       "    }\n",
       "\n",
       "    .dataframe tbody tr th {\n",
       "        vertical-align: top;\n",
       "    }\n",
       "\n",
       "    .dataframe thead th {\n",
       "        text-align: right;\n",
       "    }\n",
       "</style>\n",
       "<table border=\"1\" class=\"dataframe\">\n",
       "  <thead>\n",
       "    <tr style=\"text-align: right;\">\n",
       "      <th></th>\n",
       "      <th>transactionHash</th>\n",
       "      <th>datetime</th>\n",
       "      <th>timeStamp</th>\n",
       "      <th>sqrtPriceX96</th>\n",
       "      <th>blockNumber</th>\n",
       "      <th>gasPrice</th>\n",
       "      <th>tick</th>\n",
       "      <th>amount0</th>\n",
       "      <th>amount1</th>\n",
       "      <th>liquidity</th>\n",
       "      <th>gasUsed</th>\n",
       "    </tr>\n",
       "  </thead>\n",
       "  <tbody>\n",
       "    <tr>\n",
       "      <th>0</th>\n",
       "      <td>0xdfe8deaecde582e9da2e906d1eef85c6d388764d422d...</td>\n",
       "      <td>2025-01-14 23:54:59+00:00</td>\n",
       "      <td>1736898899</td>\n",
       "      <td>1.395327e+33</td>\n",
       "      <td>21626136</td>\n",
       "      <td>3.780745e+09</td>\n",
       "      <td>195535.0</td>\n",
       "      <td>-9.990000</td>\n",
       "      <td>0.003100</td>\n",
       "      <td>-1.0</td>\n",
       "      <td>229689.0</td>\n",
       "    </tr>\n",
       "    <tr>\n",
       "      <th>1</th>\n",
       "      <td>0x464b2f8c761ef279c897ecba0a261d4f5285791573f8...</td>\n",
       "      <td>2025-01-14 23:55:47+00:00</td>\n",
       "      <td>1736898947</td>\n",
       "      <td>1.395233e+33</td>\n",
       "      <td>21626140</td>\n",
       "      <td>5.601803e+09</td>\n",
       "      <td>195534.0</td>\n",
       "      <td>3000.000000</td>\n",
       "      <td>-0.929916</td>\n",
       "      <td>-1.0</td>\n",
       "      <td>250214.0</td>\n",
       "    </tr>\n",
       "    <tr>\n",
       "      <th>2</th>\n",
       "      <td>0x464b2f8c761ef279c897ecba0a261d4f5285791573f8...</td>\n",
       "      <td>2025-01-14 23:55:47+00:00</td>\n",
       "      <td>1736898947</td>\n",
       "      <td>1.395233e+33</td>\n",
       "      <td>21626140</td>\n",
       "      <td>5.601803e+09</td>\n",
       "      <td>195534.0</td>\n",
       "      <td>3000.000000</td>\n",
       "      <td>-0.929916</td>\n",
       "      <td>-1.0</td>\n",
       "      <td>249237.0</td>\n",
       "    </tr>\n",
       "    <tr>\n",
       "      <th>3</th>\n",
       "      <td>0xc00b302ee9816178fa9150feecd8681e94095ad15771...</td>\n",
       "      <td>2025-01-14 23:55:47+00:00</td>\n",
       "      <td>1736898947</td>\n",
       "      <td>1.395251e+33</td>\n",
       "      <td>21626140</td>\n",
       "      <td>5.601803e+09</td>\n",
       "      <td>195534.0</td>\n",
       "      <td>12636.350439</td>\n",
       "      <td>-3.917180</td>\n",
       "      <td>-1.0</td>\n",
       "      <td>250214.0</td>\n",
       "    </tr>\n",
       "    <tr>\n",
       "      <th>4</th>\n",
       "      <td>0xc00b302ee9816178fa9150feecd8681e94095ad15771...</td>\n",
       "      <td>2025-01-14 23:55:47+00:00</td>\n",
       "      <td>1736898947</td>\n",
       "      <td>1.395251e+33</td>\n",
       "      <td>21626140</td>\n",
       "      <td>5.601803e+09</td>\n",
       "      <td>195534.0</td>\n",
       "      <td>12636.350439</td>\n",
       "      <td>-3.917180</td>\n",
       "      <td>-1.0</td>\n",
       "      <td>249237.0</td>\n",
       "    </tr>\n",
       "  </tbody>\n",
       "</table>\n",
       "</div>"
      ],
      "text/plain": [
       "                                     transactionHash  \\\n",
       "0  0xdfe8deaecde582e9da2e906d1eef85c6d388764d422d...   \n",
       "1  0x464b2f8c761ef279c897ecba0a261d4f5285791573f8...   \n",
       "2  0x464b2f8c761ef279c897ecba0a261d4f5285791573f8...   \n",
       "3  0xc00b302ee9816178fa9150feecd8681e94095ad15771...   \n",
       "4  0xc00b302ee9816178fa9150feecd8681e94095ad15771...   \n",
       "\n",
       "                   datetime   timeStamp  sqrtPriceX96  blockNumber  \\\n",
       "0 2025-01-14 23:54:59+00:00  1736898899  1.395327e+33     21626136   \n",
       "1 2025-01-14 23:55:47+00:00  1736898947  1.395233e+33     21626140   \n",
       "2 2025-01-14 23:55:47+00:00  1736898947  1.395233e+33     21626140   \n",
       "3 2025-01-14 23:55:47+00:00  1736898947  1.395251e+33     21626140   \n",
       "4 2025-01-14 23:55:47+00:00  1736898947  1.395251e+33     21626140   \n",
       "\n",
       "       gasPrice      tick       amount0   amount1  liquidity   gasUsed  \n",
       "0  3.780745e+09  195535.0     -9.990000  0.003100       -1.0  229689.0  \n",
       "1  5.601803e+09  195534.0   3000.000000 -0.929916       -1.0  250214.0  \n",
       "2  5.601803e+09  195534.0   3000.000000 -0.929916       -1.0  249237.0  \n",
       "3  5.601803e+09  195534.0  12636.350439 -3.917180       -1.0  250214.0  \n",
       "4  5.601803e+09  195534.0  12636.350439 -3.917180       -1.0  249237.0  "
      ]
     },
     "execution_count": 78,
     "metadata": {},
     "output_type": "execute_result"
    }
   ],
   "source": [
    "p1_new = pd.merge(p1.drop(labels=['gasUsed'],axis=1), p1_tokentx[['timeStamp','blockNumber','gasUsed']], on=['timeStamp','blockNumber'], how='left')\n",
    "p0_new = pd.merge(p0.drop(labels=['gasUsed'],axis=1), p0_tokentx[['timeStamp','blockNumber','gasUsed']], on=['timeStamp','blockNumber'], how='left')\n",
    "print(p0_new.blockNumber.unique().shape)\n",
    "display(p0_new.columns)\n",
    "p0_new.head()"
   ]
  },
  {
   "cell_type": "markdown",
   "id": "d211a84c-c51a-4a19-b2a9-901f07b9cce9",
   "metadata": {},
   "source": [
    "**Get price within the Pool in ETH/USDC**\n",
    "\n",
    "To derive the price for the pool in ETH/USDC, you must use the sqrtPriceX96 value, which is the pool price immediately after the transaction takes place (including slippage).  You can see below that there is almost always a descrepency, but its not always enough to over come transaction and gas fees (see below)."
   ]
  },
  {
   "cell_type": "code",
   "execution_count": 79,
   "id": "77501620-03c7-4632-ab32-0e3b4e22c308",
   "metadata": {},
   "outputs": [
    {
     "name": "stdout",
     "output_type": "stream",
     "text": [
      "Pool 0 Price in USDC per ETH (at Tx: 0x...bb08): $3224.09\n",
      "Pool 1 Price in USDC per ETH (at Tx: 0x...7cd5): $3227.00\n",
      "Difference in price: $2.91\n"
     ]
    }
   ],
   "source": [
    "# row to pick for the swap...used just for the example.\n",
    "pool0_price_in_USDC_per_ETH  = ((p0_new[\"sqrtPriceX96\"].iloc[0] / 2**96)**2 / 1e12) **-1\n",
    "pool1_price_in_USDC_per_ETH  = ((p1_new[\"sqrtPriceX96\"].iloc[0] / 2**96)**2 / 1e12) **-1\n",
    "\n",
    "print(f\"Pool 0 Price in USDC per ETH (at Tx: 0x...{p0_new['transactionHash'].iloc[0][-4:]}): ${pool0_price_in_USDC_per_ETH:.2f}\")\n",
    "print(f\"Pool 1 Price in USDC per ETH (at Tx: 0x...{p1_new['transactionHash'].iloc[0][-4:]}): ${pool1_price_in_USDC_per_ETH:.2f}\")\n",
    "print(f\"Difference in price: ${pool1_price_in_USDC_per_ETH-pool0_price_in_USDC_per_ETH:.2f}\")"
   ]
  },
  {
   "cell_type": "markdown",
   "id": "bc5d9386-367b-4371-a6d0-5bef47f21438",
   "metadata": {},
   "source": [
    "**Get gas fees in ETH**\n",
    "\n",
    "Gas fees for a transaction include all the 'work' done. There is a rate of fee per unit of work (i.e. gasPrice) and then there is the work done (i.e. gasUsed).  gasPrice and gasUsed is in gwei which is 1e9 of an ETH.  so to convert to eth, each value needs to be converted with the 1e9 scaling."
   ]
  },
  {
   "cell_type": "code",
   "execution_count": 80,
   "id": "07bd7a32-de69-4074-b774-331077a1812d",
   "metadata": {},
   "outputs": [
    {
     "name": "stdout",
     "output_type": "stream",
     "text": [
      "Gas Price in ETH per unit: 3.780744797\n",
      "Gas Used in GWEI units for Uniswap Transaction: 0.000229689\n",
      "Gas fees for this Transaction in ETH: 0.00087 (ETH)\n",
      "Gas fees for this Transaction in USDC: $2.80 (USDC)\n"
     ]
    }
   ],
   "source": [
    "gas_price_eth_tokens_per_unit = int(p0_new['gasPrice'].iloc[0])/GWEI_SCALER\n",
    "gas_used_units = int(p0_new['gasUsed'].iloc[0]) / GWEI_SCALER\n",
    "gas_fees_eth_tokens  = gas_price_eth_tokens_per_unit* gas_used_units\n",
    "gas_fees_usdc_tokens = pool0_price_in_USDC_per_ETH * gas_fees_eth_tokens \n",
    "print(f\"Gas Price in ETH per unit: {gas_price_eth_tokens_per_unit}\")\n",
    "print(f\"Gas Used in GWEI units for Uniswap Transaction: {gas_used_units}\")\n",
    "print(f\"Gas fees for this Transaction in ETH: {gas_fees_eth_tokens:.5f} (ETH)\")\n",
    "print(f\"Gas fees for this Transaction in USDC: ${gas_fees_usdc_tokens:.2f} (USDC)\")"
   ]
  }
 ],
 "metadata": {
  "kernelspec": {
   "display_name": "ds210v2 (with Poetry)",
   "language": "python",
   "name": "ds210v2-py3.11"
  },
  "language_info": {
   "codemirror_mode": {
    "name": "ipython",
    "version": 3
   },
   "file_extension": ".py",
   "mimetype": "text/x-python",
   "name": "python",
   "nbconvert_exporter": "python",
   "pygments_lexer": "ipython3",
   "version": "3.11.9"
  }
 },
 "nbformat": 4,
 "nbformat_minor": 5
}
