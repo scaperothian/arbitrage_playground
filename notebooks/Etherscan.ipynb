{
 "cells": [
  {
   "cell_type": "markdown",
   "id": "9c58d203-9ac9-4e04-8901-1b414acf3a22",
   "metadata": {},
   "source": [
    "## Etherscan Notebook \n",
    "\n",
    "Looking at how to derive price for tokens and gas fees by pool.  Pool example can be found [here](https://app.uniswap.org/explore/pools/ethereum/0x88e6A0c2dDD26FEEb64F039a2c41296FcB3f5640)"
   ]
  },
  {
   "cell_type": "code",
   "execution_count": 9,
   "id": "00b58244-2683-4e84-8ebb-ebb0f59a833b",
   "metadata": {},
   "outputs": [],
   "source": [
    "import requests\n",
    "import pandas as pd"
   ]
  },
  {
   "cell_type": "code",
   "execution_count": 71,
   "id": "cb658211-fb00-4d06-8e70-d6e1c9e88869",
   "metadata": {},
   "outputs": [],
   "source": [
    "api_key = '16FCD3FTVWC3KDK17WS5PTWRQX1E2WEYV2'\n",
    "action='tokentx'\n",
    "address=\"0x88e6a0c2ddd26feeb64f039a2c41296fcb3f5640\"\n",
    "startblock=0\n",
    "endblock=99999999\n",
    "sort='desc'\n",
    "GWEI_SCALER = 1e9"
   ]
  },
  {
   "cell_type": "code",
   "execution_count": 10,
   "id": "650205cc-5125-4eaf-8392-3ef363d14289",
   "metadata": {},
   "outputs": [],
   "source": [
    "base_url = 'https://api.etherscan.io/api'\n",
    "params = {\n",
    "    'module': 'account',\n",
    "    'action': action,\n",
    "    'address': address,\n",
    "    'startblock': startblock,\n",
    "    'endblock': endblock,\n",
    "    'sort': sort,\n",
    "    'apikey': api_key\n",
    "}\n",
    "\n",
    "response = requests.get(base_url, params=params)\n",
    "if response.status_code != 200:\n",
    "    #st.error(f\"API request failed with status code {response.status_code}\")\n",
    "    print(f\"API request failed with status code {response.status_code}\")\n",
    "\n",
    "data = response.json()\n",
    "if data['status'] != '1':\n",
    "    #st.error(f\"API returned an error: {data['result']}\")\n",
    "    print(f\"API returned an error: {data['result']}\")\n",
    "\n",
    "df = pd.DataFrame(data['result'])\n",
    "\n",
    "expected_columns = ['hash', 'blockNumber', 'timeStamp', 'from', 'to', 'gas', 'gasPrice', 'gasUsed', 'cumulativeGasUsed', 'confirmations', 'tokenSymbol', 'value', 'tokenName']\n",
    "\n",
    "for col in expected_columns:\n",
    "    if col not in df.columns:\n",
    "        raise Exception(f\"Expected column '{col}' is missing from the response\")"
   ]
  },
  {
   "cell_type": "markdown",
   "id": "fe416147-b313-41aa-9f5a-1d2e99a28c11",
   "metadata": {},
   "source": [
    "The values below are pulled to create the gas fees and the price percentage features for the two models.  Between the two pools the values are used to create the total gas fees (i.e. sum of the two pools gas fees at a certain time) and percentage price difference (i.e. the ratio of the difference in price and the smaller pool price)."
   ]
  },
  {
   "cell_type": "code",
   "execution_count": 56,
   "id": "fb68814c-211f-44c3-9978-bffaac6ada79",
   "metadata": {},
   "outputs": [
    {
     "data": {
      "text/html": [
       "<div>\n",
       "<style scoped>\n",
       "    .dataframe tbody tr th:only-of-type {\n",
       "        vertical-align: middle;\n",
       "    }\n",
       "\n",
       "    .dataframe tbody tr th {\n",
       "        vertical-align: top;\n",
       "    }\n",
       "\n",
       "    .dataframe thead th {\n",
       "        text-align: right;\n",
       "    }\n",
       "</style>\n",
       "<table border=\"1\" class=\"dataframe\">\n",
       "  <thead>\n",
       "    <tr style=\"text-align: right;\">\n",
       "      <th></th>\n",
       "      <th>blockNumber</th>\n",
       "      <th>timeStamp</th>\n",
       "      <th>hash</th>\n",
       "      <th>nonce</th>\n",
       "      <th>blockHash</th>\n",
       "      <th>from</th>\n",
       "      <th>contractAddress</th>\n",
       "      <th>to</th>\n",
       "      <th>value</th>\n",
       "      <th>tokenName</th>\n",
       "      <th>tokenSymbol</th>\n",
       "      <th>tokenDecimal</th>\n",
       "      <th>transactionIndex</th>\n",
       "      <th>gas</th>\n",
       "      <th>gasPrice</th>\n",
       "      <th>gasUsed</th>\n",
       "      <th>cumulativeGasUsed</th>\n",
       "      <th>input</th>\n",
       "      <th>confirmations</th>\n",
       "    </tr>\n",
       "  </thead>\n",
       "  <tbody>\n",
       "    <tr>\n",
       "      <th>0</th>\n",
       "      <td>21500574</td>\n",
       "      <td>1735384199</td>\n",
       "      <td>0x706a6106d21d668b23f7e708fc3db05d621477bacf20...</td>\n",
       "      <td>70</td>\n",
       "      <td>0xaade44e59b15208be9fef41226298643cd3bd9388c4f...</td>\n",
       "      <td>0x9393a68e904b1f52a081cdfcf02ec56d842bf239</td>\n",
       "      <td>0xa0b86991c6218b36c1d19d4a2e9eb0ce3606eb48</td>\n",
       "      <td>0x88e6a0c2ddd26feeb64f039a2c41296fcb3f5640</td>\n",
       "      <td>48446799084</td>\n",
       "      <td>USDC</td>\n",
       "      <td>USDC</td>\n",
       "      <td>6</td>\n",
       "      <td>3</td>\n",
       "      <td>735771</td>\n",
       "      <td>5737624595</td>\n",
       "      <td>412794</td>\n",
       "      <td>2141880</td>\n",
       "      <td>deprecated</td>\n",
       "      <td>3</td>\n",
       "    </tr>\n",
       "    <tr>\n",
       "      <th>1</th>\n",
       "      <td>21500574</td>\n",
       "      <td>1735384199</td>\n",
       "      <td>0x706a6106d21d668b23f7e708fc3db05d621477bacf20...</td>\n",
       "      <td>70</td>\n",
       "      <td>0xaade44e59b15208be9fef41226298643cd3bd9388c4f...</td>\n",
       "      <td>0x88e6a0c2ddd26feeb64f039a2c41296fcb3f5640</td>\n",
       "      <td>0xc02aaa39b223fe8d0a0e5c4f27ead9083c756cc2</td>\n",
       "      <td>0xfe837a3530dd566401d35befcd55582af7c4dffc</td>\n",
       "      <td>14508420428985255597</td>\n",
       "      <td>Wrapped Ether</td>\n",
       "      <td>WETH</td>\n",
       "      <td>18</td>\n",
       "      <td>3</td>\n",
       "      <td>735771</td>\n",
       "      <td>5737624595</td>\n",
       "      <td>412794</td>\n",
       "      <td>2141880</td>\n",
       "      <td>deprecated</td>\n",
       "      <td>3</td>\n",
       "    </tr>\n",
       "    <tr>\n",
       "      <th>2</th>\n",
       "      <td>21500574</td>\n",
       "      <td>1735384199</td>\n",
       "      <td>0x938a7d80d75b5c7dbea935b7e3472914402b6d578e36...</td>\n",
       "      <td>141</td>\n",
       "      <td>0xaade44e59b15208be9fef41226298643cd3bd9388c4f...</td>\n",
       "      <td>0x6352a56caadc4f1e25cd6c75970fa768a3304e64</td>\n",
       "      <td>0xa0b86991c6218b36c1d19d4a2e9eb0ce3606eb48</td>\n",
       "      <td>0x88e6a0c2ddd26feeb64f039a2c41296fcb3f5640</td>\n",
       "      <td>48508210634</td>\n",
       "      <td>USDC</td>\n",
       "      <td>USDC</td>\n",
       "      <td>6</td>\n",
       "      <td>1</td>\n",
       "      <td>609886</td>\n",
       "      <td>5737624595</td>\n",
       "      <td>494280</td>\n",
       "      <td>1680525</td>\n",
       "      <td>deprecated</td>\n",
       "      <td>3</td>\n",
       "    </tr>\n",
       "    <tr>\n",
       "      <th>3</th>\n",
       "      <td>21500574</td>\n",
       "      <td>1735384199</td>\n",
       "      <td>0x938a7d80d75b5c7dbea935b7e3472914402b6d578e36...</td>\n",
       "      <td>141</td>\n",
       "      <td>0xaade44e59b15208be9fef41226298643cd3bd9388c4f...</td>\n",
       "      <td>0x88e6a0c2ddd26feeb64f039a2c41296fcb3f5640</td>\n",
       "      <td>0xc02aaa39b223fe8d0a0e5c4f27ead9083c756cc2</td>\n",
       "      <td>0x6352a56caadc4f1e25cd6c75970fa768a3304e64</td>\n",
       "      <td>14530270984661210579</td>\n",
       "      <td>Wrapped Ether</td>\n",
       "      <td>WETH</td>\n",
       "      <td>18</td>\n",
       "      <td>1</td>\n",
       "      <td>609886</td>\n",
       "      <td>5737624595</td>\n",
       "      <td>494280</td>\n",
       "      <td>1680525</td>\n",
       "      <td>deprecated</td>\n",
       "      <td>3</td>\n",
       "    </tr>\n",
       "    <tr>\n",
       "      <th>4</th>\n",
       "      <td>21500572</td>\n",
       "      <td>1735384175</td>\n",
       "      <td>0x77eaf14a5bfd0be57a124cb5f12bcab4ef8040270b3e...</td>\n",
       "      <td>68</td>\n",
       "      <td>0x4bb283e4dcddb331fb9731c178e8718e0ea624b640ea...</td>\n",
       "      <td>0xf081470f5c6fbccf48cc4e5b82dd926409dcdd67</td>\n",
       "      <td>0xa0b86991c6218b36c1d19d4a2e9eb0ce3606eb48</td>\n",
       "      <td>0x88e6a0c2ddd26feeb64f039a2c41296fcb3f5640</td>\n",
       "      <td>48432971348</td>\n",
       "      <td>USDC</td>\n",
       "      <td>USDC</td>\n",
       "      <td>6</td>\n",
       "      <td>2</td>\n",
       "      <td>705431</td>\n",
       "      <td>5783278619</td>\n",
       "      <td>431546</td>\n",
       "      <td>1339391</td>\n",
       "      <td>deprecated</td>\n",
       "      <td>5</td>\n",
       "    </tr>\n",
       "  </tbody>\n",
       "</table>\n",
       "</div>"
      ],
      "text/plain": [
       "  blockNumber   timeStamp                                               hash  \\\n",
       "0    21500574  1735384199  0x706a6106d21d668b23f7e708fc3db05d621477bacf20...   \n",
       "1    21500574  1735384199  0x706a6106d21d668b23f7e708fc3db05d621477bacf20...   \n",
       "2    21500574  1735384199  0x938a7d80d75b5c7dbea935b7e3472914402b6d578e36...   \n",
       "3    21500574  1735384199  0x938a7d80d75b5c7dbea935b7e3472914402b6d578e36...   \n",
       "4    21500572  1735384175  0x77eaf14a5bfd0be57a124cb5f12bcab4ef8040270b3e...   \n",
       "\n",
       "  nonce                                          blockHash  \\\n",
       "0    70  0xaade44e59b15208be9fef41226298643cd3bd9388c4f...   \n",
       "1    70  0xaade44e59b15208be9fef41226298643cd3bd9388c4f...   \n",
       "2   141  0xaade44e59b15208be9fef41226298643cd3bd9388c4f...   \n",
       "3   141  0xaade44e59b15208be9fef41226298643cd3bd9388c4f...   \n",
       "4    68  0x4bb283e4dcddb331fb9731c178e8718e0ea624b640ea...   \n",
       "\n",
       "                                         from  \\\n",
       "0  0x9393a68e904b1f52a081cdfcf02ec56d842bf239   \n",
       "1  0x88e6a0c2ddd26feeb64f039a2c41296fcb3f5640   \n",
       "2  0x6352a56caadc4f1e25cd6c75970fa768a3304e64   \n",
       "3  0x88e6a0c2ddd26feeb64f039a2c41296fcb3f5640   \n",
       "4  0xf081470f5c6fbccf48cc4e5b82dd926409dcdd67   \n",
       "\n",
       "                              contractAddress  \\\n",
       "0  0xa0b86991c6218b36c1d19d4a2e9eb0ce3606eb48   \n",
       "1  0xc02aaa39b223fe8d0a0e5c4f27ead9083c756cc2   \n",
       "2  0xa0b86991c6218b36c1d19d4a2e9eb0ce3606eb48   \n",
       "3  0xc02aaa39b223fe8d0a0e5c4f27ead9083c756cc2   \n",
       "4  0xa0b86991c6218b36c1d19d4a2e9eb0ce3606eb48   \n",
       "\n",
       "                                           to                 value  \\\n",
       "0  0x88e6a0c2ddd26feeb64f039a2c41296fcb3f5640           48446799084   \n",
       "1  0xfe837a3530dd566401d35befcd55582af7c4dffc  14508420428985255597   \n",
       "2  0x88e6a0c2ddd26feeb64f039a2c41296fcb3f5640           48508210634   \n",
       "3  0x6352a56caadc4f1e25cd6c75970fa768a3304e64  14530270984661210579   \n",
       "4  0x88e6a0c2ddd26feeb64f039a2c41296fcb3f5640           48432971348   \n",
       "\n",
       "       tokenName tokenSymbol tokenDecimal transactionIndex     gas  \\\n",
       "0           USDC        USDC            6                3  735771   \n",
       "1  Wrapped Ether        WETH           18                3  735771   \n",
       "2           USDC        USDC            6                1  609886   \n",
       "3  Wrapped Ether        WETH           18                1  609886   \n",
       "4           USDC        USDC            6                2  705431   \n",
       "\n",
       "     gasPrice gasUsed cumulativeGasUsed       input confirmations  \n",
       "0  5737624595  412794           2141880  deprecated             3  \n",
       "1  5737624595  412794           2141880  deprecated             3  \n",
       "2  5737624595  494280           1680525  deprecated             3  \n",
       "3  5737624595  494280           1680525  deprecated             3  \n",
       "4  5783278619  431546           1339391  deprecated             5  "
      ]
     },
     "execution_count": 56,
     "metadata": {},
     "output_type": "execute_result"
    }
   ],
   "source": [
    "df.head()"
   ]
  },
  {
   "cell_type": "code",
   "execution_count": 57,
   "id": "29e54608-8f54-47c9-92b8-e12b82a09120",
   "metadata": {},
   "outputs": [
    {
     "data": {
      "text/plain": [
       "array(['USDC', 'Wrapped Ether'], dtype=object)"
      ]
     },
     "execution_count": 57,
     "metadata": {},
     "output_type": "execute_result"
    }
   ],
   "source": [
    "df['tokenName'].unique() "
   ]
  },
  {
   "cell_type": "markdown",
   "id": "961b6d57-538e-4f5b-998b-40648deedad9",
   "metadata": {
    "jp-MarkdownHeadingCollapsed": true
   },
   "source": [
    "**Manual Example of creating the price in USD or ETH**.  <br> \n",
    "\n",
    "The example transaction can be found [here]( https://etherscan.io/tx/0x706a6106d21d668b23f7e708fc3db05d621477bacf202bd3f62d29e7f3772230).  Each row pulled as one element of the swap transaction (pair of two rows required for a swap). First we need to scale the token values for the swap to the token fraction (i.e. how much of each whole token) using a scaling factor which is specified in each row as 'tokenDecimal'."
   ]
  },
  {
   "cell_type": "code",
   "execution_count": 70,
   "id": "222c5102-d641-4a4f-97a6-082066396167",
   "metadata": {},
   "outputs": [
    {
     "name": "stdout",
     "output_type": "stream",
     "text": [
      "USDC Tokens in Swap (Tx: 0x...2230): 48446.7991\n",
      "ETH_TOKENS Tokens in Swap (Tx: 0x...2230): 14.5084\n"
     ]
    }
   ],
   "source": [
    "# row to pick for the swap...used just for the example.\n",
    "USDC_POSITION=0\n",
    "ETH_POSITION=1\n",
    "\n",
    "#Token Amounts\n",
    "USDC_TOKENS  = int(df['value'].iloc[USDC_POSITION]) / 10**int(df['tokenDecimal'].iloc[USDC_POSITION])\n",
    "ETH_TOKENS   = int(df['value'].iloc[ETH_POSITION]) / 10**int(df['tokenDecimal'].iloc[ETH_POSITION])\n",
    "\n",
    "print(f\"USDC Tokens in Swap (Tx: 0x...{df['hash'].iloc[USDC_POSITION][-4:]}): {USDC_TOKENS:.4f}\")\n",
    "print(f\"ETH_TOKENS Tokens in Swap (Tx: 0x...{df['hash'].iloc[ETH_POSITION][-4:]}): {ETH_TOKENS:.4f}\")"
   ]
  },
  {
   "cell_type": "markdown",
   "id": "d211a84c-c51a-4a19-b2a9-901f07b9cce9",
   "metadata": {},
   "source": [
    "**Get price per ETH**\n",
    "\n",
    "To get an intuition for how this plays out with the pool.  To derive the price per ETH, you can device the USDC tokens by the ETH tokens to get an estimate, which marries up pretty close to market price estimates, which aggregate data from ratios like this from multiple holdings across the market."
   ]
  },
  {
   "cell_type": "code",
   "execution_count": 62,
   "id": "77501620-03c7-4632-ab32-0e3b4e22c308",
   "metadata": {},
   "outputs": [
    {
     "name": "stdout",
     "output_type": "stream",
     "text": [
      "Price of Ethereum in USD in this pool: $3339.22\n"
     ]
    }
   ],
   "source": [
    "print(f\"Price of Ethereum in USD in this pool: ${USDC_TOKENS/ETH_TOKENS:.2f}\")"
   ]
  },
  {
   "cell_type": "markdown",
   "id": "bc5d9386-367b-4371-a6d0-5bef47f21438",
   "metadata": {},
   "source": [
    "**Get gas fees in ETH**\n",
    "\n",
    "Gas fees for a transaction include all the 'work' done. There is a rate of fee per unit of work (i.e. gasPrice) and then there is the work done (i.e. gasUsed).  gasPrice and gasUsed is in gwei which is 1e9 of an ETH.  so to convert to eth, each value needs to be converted with the 1e9 scaling."
   ]
  },
  {
   "cell_type": "code",
   "execution_count": 83,
   "id": "07bd7a32-de69-4074-b774-331077a1812d",
   "metadata": {},
   "outputs": [
    {
     "name": "stdout",
     "output_type": "stream",
     "text": [
      "Gas Price in ETH per unit: 5.737624595\n",
      "Gas Used in GWEI units for Uniswap Transaction: 412794\n",
      "Gas fees for this Transaction in ETH: 0.00237 (ETH)\n",
      "Gas fees for this Transaction in USDC: $7.91 (USDC)\n"
     ]
    }
   ],
   "source": [
    "gas_price_eth_tokens_per_unit = int(df['gasPrice'].iloc[0])/GWEI_SCALER\n",
    "gas_used_units = int(df['gasUsed'].iloc[0])\n",
    "gas_fees_eth_tokens  = gas_price_eth_tokens_per_unit* (gas_used_units / GWEI_SCALER)\n",
    "gas_fees_usdc_tokens = USDC_TOKENS / ETH_TOKENS * gas_fees_eth_tokens \n",
    "print(f\"Gas Price in ETH per unit: {gas_price_eth_tokens_per_unit}\")\n",
    "print(f\"Gas Used in GWEI units for Uniswap Transaction: {gas_used_units}\")\n",
    "print(f\"Gas fees for this Transaction in ETH: {gas_fees_eth_tokens:.5f} (ETH)\")\n",
    "print(f\"Gas fees for this Transaction in USDC: ${gas_fees_usdc_tokens:.2f} (USDC)\")"
   ]
  },
  {
   "cell_type": "code",
   "execution_count": null,
   "id": "9ba1fc28-3129-41ff-bbad-0fe880e36d55",
   "metadata": {},
   "outputs": [],
   "source": []
  },
  {
   "cell_type": "code",
   "execution_count": null,
   "id": "014f2665-e1be-4bcb-b1c2-84d8815add0c",
   "metadata": {},
   "outputs": [],
   "source": []
  }
 ],
 "metadata": {
  "kernelspec": {
   "display_name": "ds210v2 (with Poetry)",
   "language": "python",
   "name": "ds210v2-py3.11"
  },
  "language_info": {
   "codemirror_mode": {
    "name": "ipython",
    "version": 3
   },
   "file_extension": ".py",
   "mimetype": "text/x-python",
   "name": "python",
   "nbconvert_exporter": "python",
   "pygments_lexer": "ipython3",
   "version": "3.11.9"
  }
 },
 "nbformat": 4,
 "nbformat_minor": 5
}
