{
 "cells": [
  {
   "cell_type": "code",
   "execution_count": 7,
   "id": "8efe569b-6feb-4535-aedc-283dd15d5fb0",
   "metadata": {},
   "outputs": [
    {
     "name": "stdout",
     "output_type": "stream",
     "text": [
      "{'feeTier': '3000', 'id': '0x8ad599c3a0ff1de082011efddc58f1908eb6e6d8', 'liquidity': '1262989184115607311', 'sqrtPrice': '1345252239319690827966143325149066', 'tick': '194804', 'token0': {'id': '0xa0b86991c6218b36c1d19d4a2e9eb0ce3606eb48', 'name': 'USD Coin', 'symbol': 'USDC'}, 'token1': {'id': '0xc02aaa39b223fe8d0a0e5c4f27ead9083c756cc2', 'name': 'Wrapped Ether', 'symbol': 'WETH'}}\n"
     ]
    }
   ],
   "source": [
    "import os\n",
    "import requests\n",
    "\n",
    "API_KEY =  os.getenv('GRAPH_API_KEY')\n",
    "\n",
    "def fetch_pool_metadata(thegraph_api_key, pool_address):\n",
    "    query = \"\"\"\n",
    "    {\n",
    "      pools(where: { id: \"%s\" }) {\n",
    "        id\n",
    "        token0 {\n",
    "          id\n",
    "          symbol\n",
    "          name\n",
    "        }\n",
    "        token1 {\n",
    "          id\n",
    "          symbol\n",
    "          name\n",
    "        }\n",
    "        feeTier\n",
    "        sqrtPrice\n",
    "        liquidity\n",
    "        tick\n",
    "      }\n",
    "    }\n",
    "    \"\"\" % pool_address.lower()  # Ensure the address is in lowercase\n",
    "\n",
    "    try:\n",
    "        response = requests.post(\n",
    "            f'https://gateway.thegraph.com/api/{thegraph_api_key}/subgraphs/id/5zvR82QoaXYFyDEKLZ9t6v9adgnptxYpKpSbxtgVENFV',\n",
    "            json={'query': query}\n",
    "        )  \n",
    "    except Exception as e:\n",
    "        print(f\"Post error occurred: {e}\")\n",
    "        return\n",
    "\n",
    "    if response.status_code == 200:\n",
    "        data = response.json()\n",
    "        if \"data\" in data and \"pools\" in data[\"data\"] and len(data[\"data\"][\"pools\"]) > 0:\n",
    "            return data[\"data\"][\"pools\"][0]\n",
    "        else:\n",
    "            raise ValueError(f\"No data found for pool address {pool_address}\")\n",
    "    else:\n",
    "        raise ValueError(f\"Failed to fetch data from The Graph: {response.status_code} - {response.text}\")\n",
    "\n",
    "# Example usage\n",
    "pool_address = \"0x8ad599c3a0ff1de082011efddc58f1908eb6e6d8\"  # Example Uniswap V3 USDC/ETH pool\n",
    "pool = fetch_pool_metadata(\n",
    "    thegraph_api_key=API_KEY,\n",
    "    pool_address=pool_address)\n",
    "print(pool)"
   ]
  },
  {
   "cell_type": "code",
   "execution_count": 10,
   "id": "120845fb-2bbe-449e-9c3e-d4a3b3d49ffb",
   "metadata": {},
   "outputs": [
    {
     "name": "stdout",
     "output_type": "stream",
     "text": [
      "Pool fee tier: 0.003\n"
     ]
    }
   ],
   "source": [
    "print(f\"Pool fee tier: {int(pool['feeTier'])*1e-6}\")"
   ]
  },
  {
   "cell_type": "code",
   "execution_count": 12,
   "id": "3d9af6a7-3b1e-421d-b89c-3c2a70d859fc",
   "metadata": {},
   "outputs": [
    {
     "name": "stdout",
     "output_type": "stream",
     "text": [
      "token0 symbol: USDC\n"
     ]
    }
   ],
   "source": [
    "print(f\"token0 symbol: {pool['token0']['symbol']}\")"
   ]
  },
  {
   "cell_type": "code",
   "execution_count": 13,
   "id": "e19da743-5fc9-45d3-8aef-95af0878dbf4",
   "metadata": {},
   "outputs": [
    {
     "name": "stdout",
     "output_type": "stream",
     "text": [
      "token1 symbol: WETH\n"
     ]
    }
   ],
   "source": [
    "print(f\"token1 symbol: {pool['token1']['symbol']}\")"
   ]
  },
  {
   "cell_type": "code",
   "execution_count": 28,
   "id": "74b12d5b-b026-4ed8-a7e0-4cbb36e48e9e",
   "metadata": {},
   "outputs": [],
   "source": [
    "pools = [\n",
    "    {'token0': 'USD', 'token1': 'ETH', 'address': '0x123'},\n",
    "    {'token0': 'ETH', 'token1': 'USD', 'address': '0x456'},\n",
    "    {'token0': 'ETH', 'token1': 'USD', 'address': '0x999'},\n",
    "    {'token0': 'BTC', 'token1': 'USD', 'address': '0x789'},\n",
    "    {'token0': 'USD', 'token1': 'BTC', 'address': '0xabc'},\n",
    "    {'token0': 'USD', 'token1': 'BTC', 'address': '0xdef'},\n",
    "]"
   ]
  },
  {
   "cell_type": "code",
   "execution_count": 29,
   "id": "9f749e43-0e79-4b10-8fba-7de03451af8f",
   "metadata": {},
   "outputs": [
    {
     "name": "stdout",
     "output_type": "stream",
     "text": [
      "Matching addresses: [('0x123', '0x456'), ('0x123', '0x999'), ('0x456', '0x999'), ('0x789', '0xabc'), ('0x789', '0xdef'), ('0xabc', '0xdef')]\n"
     ]
    }
   ],
   "source": [
    "from itertools import combinations\n",
    "def find_matching_addresses(pools):\n",
    "    pair_to_addresses = {}\n",
    "    matching_addresses = []\n",
    "    \n",
    "    for pool in pools:\n",
    "        # Create a pair (order doesn't matter, so we use a tuple and sort it)\n",
    "        pair = tuple(sorted([pool['token0'], pool['token1']]))\n",
    "        address = pool['address']\n",
    "        \n",
    "        if pair not in pair_to_addresses:\n",
    "            pair_to_addresses[pair] = []\n",
    "        \n",
    "        # Add the current address to the list of addresses for this pair\n",
    "        pair_to_addresses[pair].append(address)\n",
    "    \n",
    "    # For each token pair, generate all possible combinations of addresses\n",
    "    for addresses in pair_to_addresses.values():\n",
    "        if len(addresses) > 1:\n",
    "            matching_addresses.extend(list(combinations(addresses, 2)))\n",
    "    \n",
    "    return matching_addresses\n",
    "\n",
    "# Example usage\n",
    "matches = find_matching_addresses(pools)\n",
    "print(\"Matching addresses:\", matches)"
   ]
  },
  {
   "cell_type": "code",
   "execution_count": 31,
   "id": "c4f5d349-08b2-4122-ae8a-2ea8e077ad6b",
   "metadata": {},
   "outputs": [
    {
     "name": "stdout",
     "output_type": "stream",
     "text": [
      "[{'pool0': {'token0': 'USD', 'token1': 'ETH', 'address': '0x123'}, 'pool1': {'token0': 'ETH', 'token1': 'USD', 'address': '0x456'}}, {'pool0': {'token0': 'USD', 'token1': 'ETH', 'address': '0x123'}, 'pool1': {'token0': 'ETH', 'token1': 'USD', 'address': '0x999'}}, {'pool0': {'token0': 'ETH', 'token1': 'USD', 'address': '0x456'}, 'pool1': {'token0': 'ETH', 'token1': 'USD', 'address': '0x999'}}, {'pool0': {'token0': 'BTC', 'token1': 'USD', 'address': '0x789'}, 'pool1': {'token0': 'USD', 'token1': 'BTC', 'address': '0xabc'}}, {'pool0': {'token0': 'BTC', 'token1': 'USD', 'address': '0x789'}, 'pool1': {'token0': 'USD', 'token1': 'BTC', 'address': '0xdef'}}, {'pool0': {'token0': 'USD', 'token1': 'BTC', 'address': '0xabc'}, 'pool1': {'token0': 'USD', 'token1': 'BTC', 'address': '0xdef'}}]\n"
     ]
    }
   ],
   "source": [
    "matching_pools = []\n",
    "for addr0,addr1 in matches:\n",
    "    pool_pairs = {'pool0':dict, 'pool1':dict}\n",
    "    for pool in pools:\n",
    "        if addr0 == pool['address']:\n",
    "            pool_pairs['pool0'] = pool\n",
    "        elif addr1 == pool['address']:\n",
    "            pool_pairs['pool1'] = pool\n",
    "    matching_pools.append(pool_pairs)\n",
    "\n",
    "print(matching_pools)"
   ]
  },
  {
   "cell_type": "code",
   "execution_count": null,
   "id": "a3eef774-9b42-4c9e-b5b4-413e29607940",
   "metadata": {},
   "outputs": [],
   "source": []
  }
 ],
 "metadata": {
  "kernelspec": {
   "display_name": "ds210v2 (with Poetry)",
   "language": "python",
   "name": "ds210v2-py3.11"
  },
  "language_info": {
   "codemirror_mode": {
    "name": "ipython",
    "version": 3
   },
   "file_extension": ".py",
   "mimetype": "text/x-python",
   "name": "python",
   "nbconvert_exporter": "python",
   "pygments_lexer": "ipython3",
   "version": "3.11.9"
  }
 },
 "nbformat": 4,
 "nbformat_minor": 5
}
