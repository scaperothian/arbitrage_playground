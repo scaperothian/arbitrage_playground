{
 "cells": [
  {
   "cell_type": "markdown",
   "id": "9c58d203-9ac9-4e04-8901-1b414acf3a22",
   "metadata": {},
   "source": [
    "## Etherscan Notebook \n",
    "\n",
    "Looking at how to derive price for tokens and gas fees by pool.  Pool example can be found [here](https://app.uniswap.org/explore/pools/ethereum/0x88e6A0c2dDD26FEEb64F039a2c41296FcB3f5640)"
   ]
  },
  {
   "cell_type": "code",
   "execution_count": 1,
   "id": "00b58244-2683-4e84-8ebb-ebb0f59a833b",
   "metadata": {},
   "outputs": [
    {
     "name": "stdout",
     "output_type": "stream",
     "text": [
      "/Users/das/DATASCI210/arbitrage_playground/notebooks\n"
     ]
    }
   ],
   "source": [
    "import requests\n",
    "import os\n",
    "\n",
    "import pandas as pd\n",
    "import numpy as np\n",
    "print(os.getcwd())"
   ]
  },
  {
   "cell_type": "code",
   "execution_count": 2,
   "id": "558b70a9-a13c-4d15-b281-5ef34c103539",
   "metadata": {},
   "outputs": [
    {
     "name": "stdout",
     "output_type": "stream",
     "text": [
      "Moving active path to parent directory\n",
      "/Users/das/DATASCI210/arbitrage_playground\n"
     ]
    }
   ],
   "source": [
    "# change the active path to the parent directory \n",
    "if True: \n",
    "    print(\"Moving active path to parent directory\")\n",
    "    os.chdir('..')\n",
    "    print(os.getcwd())"
   ]
  },
  {
   "cell_type": "code",
   "execution_count": 3,
   "id": "6c8cc6d2-48a7-441d-a1e3-b5dbb6056d18",
   "metadata": {},
   "outputs": [],
   "source": [
    "# import test code\n",
    "from src.alchemyutils import alchemy_request, fetch_latest_block, merge_pool_data_v2\n"
   ]
  },
  {
   "cell_type": "code",
   "execution_count": 4,
   "id": "cb658211-fb00-4d06-8e70-d6e1c9e88869",
   "metadata": {},
   "outputs": [
    {
     "name": "stdout",
     "output_type": "stream",
     "text": [
      "https://eth-mainnet.g.alchemy.com/v2/KM5cZFySSlNmnbX8vSUa2m_gE2zl0OHd\n"
     ]
    }
   ],
   "source": [
    "api_key = 'YOUR API HERE'\n",
    "url = f'https://eth-mainnet.g.alchemy.com/v2/{api_key}'\n",
    "print(url)"
   ]
  },
  {
   "cell_type": "code",
   "execution_count": 5,
   "id": "70e91edc-c414-49cb-b885-f8487ddb8570",
   "metadata": {},
   "outputs": [
    {
     "name": "stdout",
     "output_type": "stream",
     "text": [
      "Latest Block Number: 21585352\n"
     ]
    }
   ],
   "source": [
    "latest_block_number = fetch_latest_block(url)\n",
    "LAST_60MIN_BLOCKS= int(np.floor(4 * 60))"
   ]
  },
  {
   "cell_type": "code",
   "execution_count": 6,
   "id": "650205cc-5125-4eaf-8392-3ef363d14289",
   "metadata": {},
   "outputs": [
    {
     "name": "stdout",
     "output_type": "stream",
     "text": [
      "Found 155 Swap Transactions from 21585112 to 21585352\n",
      "Time to fetch blocks: 0.13683724403381348\n",
      "\n",
      "Latest Block Timestamp: 2025-01-09 03:12:23+00:00\n",
      "Duration of Pool Data (in minutes): 48.8 minutes\n",
      "Time to process 155 blocks: 2.978843927383423\n",
      "Transactions Dataframe Created Successfully\n"
     ]
    }
   ],
   "source": [
    "p0_address=\"0x88e6a0c2ddd26feeb64f039a2c41296fcb3f5640\"\n",
    "p0 = alchemy_request(url, \n",
    "                    address=p0_address, \n",
    "                    blocks_to_look_back=LAST_60MIN_BLOCKS, \n",
    "                    latest_block=latest_block_number)"
   ]
  },
  {
   "cell_type": "code",
   "execution_count": 7,
   "id": "fb68814c-211f-44c3-9978-bffaac6ada79",
   "metadata": {},
   "outputs": [
    {
     "name": "stdout",
     "output_type": "stream",
     "text": [
      "Found 11 Swap Transactions from 21585112 to 21585352\n",
      "Time to fetch blocks: 0.1440110206604004\n",
      "\n",
      "Latest Block Timestamp: 2025-01-09 02:58:35+00:00\n",
      "Duration of Pool Data (in minutes): 26.6 minutes\n",
      "Time to process 11 blocks: 0.4656808376312256\n",
      "Transactions Dataframe Created Successfully\n"
     ]
    }
   ],
   "source": [
    "p1_address=\"0x8ad599c3a0ff1de082011efddc58f1908eb6e6d8\"\n",
    "p1 = alchemy_request(url, \n",
    "                    address=p1_address, \n",
    "                    blocks_to_look_back=LAST_60MIN_BLOCKS, \n",
    "                    latest_block=latest_block_number)"
   ]
  },
  {
   "cell_type": "code",
   "execution_count": 10,
   "id": "29e54608-8f54-47c9-92b8-e12b82a09120",
   "metadata": {},
   "outputs": [
    {
     "data": {
      "text/html": [
       "<div>\n",
       "<style scoped>\n",
       "    .dataframe tbody tr th:only-of-type {\n",
       "        vertical-align: middle;\n",
       "    }\n",
       "\n",
       "    .dataframe tbody tr th {\n",
       "        vertical-align: top;\n",
       "    }\n",
       "\n",
       "    .dataframe thead th {\n",
       "        text-align: right;\n",
       "    }\n",
       "</style>\n",
       "<table border=\"1\" class=\"dataframe\">\n",
       "  <thead>\n",
       "    <tr style=\"text-align: right;\">\n",
       "      <th></th>\n",
       "      <th>transaction_hash</th>\n",
       "      <th>timestamp</th>\n",
       "      <th>sqrtPriceX96</th>\n",
       "      <th>tick</th>\n",
       "      <th>eth_price_usd</th>\n",
       "      <th>usdc_amount0</th>\n",
       "      <th>eth_amount1</th>\n",
       "      <th>liquidity</th>\n",
       "      <th>block_number</th>\n",
       "      <th>gas_price</th>\n",
       "      <th>gas_used</th>\n",
       "      <th>sender</th>\n",
       "      <th>recipient</th>\n",
       "    </tr>\n",
       "  </thead>\n",
       "  <tbody>\n",
       "    <tr>\n",
       "      <th>0</th>\n",
       "      <td>0x0f9f78562a96ffaae3f50f17cc132671c4e2fa04fd3a...</td>\n",
       "      <td>2025-01-09 06:23:35+00:00</td>\n",
       "      <td>1373310324421383584629987966171332</td>\n",
       "      <td>195217</td>\n",
       "      <td>3328.294884</td>\n",
       "      <td>15.000000</td>\n",
       "      <td>-0.004505</td>\n",
       "      <td>7603809057890597992</td>\n",
       "      <td>21585112</td>\n",
       "      <td>5.378394</td>\n",
       "      <td>246252</td>\n",
       "      <td>0xa83ed0489b2c57e7f46aafd63ef654376236f388</td>\n",
       "      <td>0x3fc91a3afd70395cd496c647d5a6cc9d4b2b7fad</td>\n",
       "    </tr>\n",
       "    <tr>\n",
       "      <th>1</th>\n",
       "      <td>0xd3ae3fed926bdfc6c98dcadb378e32dbe281265affb4...</td>\n",
       "      <td>2025-01-09 06:23:59+00:00</td>\n",
       "      <td>1373759384998869023541518297110501</td>\n",
       "      <td>195224</td>\n",
       "      <td>3326.119304</td>\n",
       "      <td>-142810.533006</td>\n",
       "      <td>42.943500</td>\n",
       "      <td>7557224643474005544</td>\n",
       "      <td>21585114</td>\n",
       "      <td>88.231567</td>\n",
       "      <td>302170</td>\n",
       "      <td>0x93793bd1f3e35a0efd098c30e486a860a0ef7551</td>\n",
       "      <td>0x68d3a973e7272eb388022a5c6518d9b2a2e66fbf</td>\n",
       "    </tr>\n",
       "    <tr>\n",
       "      <th>2</th>\n",
       "      <td>0x22d717f00df68790253f7b1ae07dbddc53955a916d25...</td>\n",
       "      <td>2025-01-09 06:24:11+00:00</td>\n",
       "      <td>1373992627629554360505911897630701</td>\n",
       "      <td>195227</td>\n",
       "      <td>3324.990146</td>\n",
       "      <td>-73986.889952</td>\n",
       "      <td>22.259114</td>\n",
       "      <td>7557224643474005544</td>\n",
       "      <td>21585115</td>\n",
       "      <td>26.211169</td>\n",
       "      <td>242170</td>\n",
       "      <td>0x3eff3dc5a4f5c65d28e88dc8fd22800979c9e7c6</td>\n",
       "      <td>0x68d3a973e7272eb388022a5c6518d9b2a2e66fbf</td>\n",
       "    </tr>\n",
       "    <tr>\n",
       "      <th>3</th>\n",
       "      <td>0xa609ac56d3718b2bea7cf2b119f9dbea6a5924431267...</td>\n",
       "      <td>2025-01-09 06:24:23+00:00</td>\n",
       "      <td>1374136498794463981127056573134644</td>\n",
       "      <td>195229</td>\n",
       "      <td>3324.293934</td>\n",
       "      <td>-45624.844602</td>\n",
       "      <td>13.730100</td>\n",
       "      <td>7557224643474005544</td>\n",
       "      <td>21585116</td>\n",
       "      <td>10.340688</td>\n",
       "      <td>242170</td>\n",
       "      <td>0xbbde9f0c24b6f59d7e828bb4e129992be0cdc237</td>\n",
       "      <td>0x68d3a973e7272eb388022a5c6518d9b2a2e66fbf</td>\n",
       "    </tr>\n",
       "    <tr>\n",
       "      <th>5</th>\n",
       "      <td>0x07a641a89f17f322b64adff3b4cdff8cedf1ff7fbbc8...</td>\n",
       "      <td>2025-01-09 06:24:23+00:00</td>\n",
       "      <td>1374133293375101800471366941522763</td>\n",
       "      <td>195229</td>\n",
       "      <td>3324.309443</td>\n",
       "      <td>1016.916365</td>\n",
       "      <td>-0.305751</td>\n",
       "      <td>7557224643474005544</td>\n",
       "      <td>21585116</td>\n",
       "      <td>3.402027</td>\n",
       "      <td>345174</td>\n",
       "      <td>0x42dd4269fe2faa8ea0072572d7ddac0f1b537af4</td>\n",
       "      <td>0x3fc91a3afd70395cd496c647d5a6cc9d4b2b7fad</td>\n",
       "    </tr>\n",
       "  </tbody>\n",
       "</table>\n",
       "</div>"
      ],
      "text/plain": [
       "                                    transaction_hash  \\\n",
       "0  0x0f9f78562a96ffaae3f50f17cc132671c4e2fa04fd3a...   \n",
       "1  0xd3ae3fed926bdfc6c98dcadb378e32dbe281265affb4...   \n",
       "2  0x22d717f00df68790253f7b1ae07dbddc53955a916d25...   \n",
       "3  0xa609ac56d3718b2bea7cf2b119f9dbea6a5924431267...   \n",
       "5  0x07a641a89f17f322b64adff3b4cdff8cedf1ff7fbbc8...   \n",
       "\n",
       "                  timestamp                        sqrtPriceX96    tick  \\\n",
       "0 2025-01-09 06:23:35+00:00  1373310324421383584629987966171332  195217   \n",
       "1 2025-01-09 06:23:59+00:00  1373759384998869023541518297110501  195224   \n",
       "2 2025-01-09 06:24:11+00:00  1373992627629554360505911897630701  195227   \n",
       "3 2025-01-09 06:24:23+00:00  1374136498794463981127056573134644  195229   \n",
       "5 2025-01-09 06:24:23+00:00  1374133293375101800471366941522763  195229   \n",
       "\n",
       "   eth_price_usd   usdc_amount0  eth_amount1            liquidity  \\\n",
       "0    3328.294884      15.000000    -0.004505  7603809057890597992   \n",
       "1    3326.119304 -142810.533006    42.943500  7557224643474005544   \n",
       "2    3324.990146  -73986.889952    22.259114  7557224643474005544   \n",
       "3    3324.293934  -45624.844602    13.730100  7557224643474005544   \n",
       "5    3324.309443    1016.916365    -0.305751  7557224643474005544   \n",
       "\n",
       "   block_number  gas_price  gas_used  \\\n",
       "0      21585112   5.378394    246252   \n",
       "1      21585114  88.231567    302170   \n",
       "2      21585115  26.211169    242170   \n",
       "3      21585116  10.340688    242170   \n",
       "5      21585116   3.402027    345174   \n",
       "\n",
       "                                       sender  \\\n",
       "0  0xa83ed0489b2c57e7f46aafd63ef654376236f388   \n",
       "1  0x93793bd1f3e35a0efd098c30e486a860a0ef7551   \n",
       "2  0x3eff3dc5a4f5c65d28e88dc8fd22800979c9e7c6   \n",
       "3  0xbbde9f0c24b6f59d7e828bb4e129992be0cdc237   \n",
       "5  0x42dd4269fe2faa8ea0072572d7ddac0f1b537af4   \n",
       "\n",
       "                                    recipient  \n",
       "0  0x3fc91a3afd70395cd496c647d5a6cc9d4b2b7fad  \n",
       "1  0x68d3a973e7272eb388022a5c6518d9b2a2e66fbf  \n",
       "2  0x68d3a973e7272eb388022a5c6518d9b2a2e66fbf  \n",
       "3  0x68d3a973e7272eb388022a5c6518d9b2a2e66fbf  \n",
       "5  0x3fc91a3afd70395cd496c647d5a6cc9d4b2b7fad  "
      ]
     },
     "execution_count": 10,
     "metadata": {},
     "output_type": "execute_result"
    }
   ],
   "source": [
    "p0.head()"
   ]
  },
  {
   "cell_type": "code",
   "execution_count": 9,
   "id": "beff7e4a-d10e-406c-9127-4138d50e4b9e",
   "metadata": {},
   "outputs": [
    {
     "data": {
      "text/plain": [
       "transaction_hash                 object\n",
       "timestamp           datetime64[ns, UTC]\n",
       "sqrtPriceX96                     object\n",
       "tick                              int64\n",
       "eth_price_usd                   float64\n",
       "usdc_amount0                    float64\n",
       "eth_amount1                     float64\n",
       "liquidity                        object\n",
       "block_number                      int64\n",
       "gas_price                       float64\n",
       "gas_used                          int64\n",
       "sender                           object\n",
       "recipient                        object\n",
       "dtype: object"
      ]
     },
     "execution_count": 9,
     "metadata": {},
     "output_type": "execute_result"
    }
   ],
   "source": [
    "p0.dtypes"
   ]
  },
  {
   "cell_type": "code",
   "execution_count": 17,
   "id": "10ab92dc-4d5b-4bfc-83c7-052039063524",
   "metadata": {
    "scrolled": true
   },
   "outputs": [
    {
     "data": {
      "text/plain": [
       "0       4.408128\n",
       "1      88.677443\n",
       "2      21.105570\n",
       "3       8.324712\n",
       "5       3.903707\n",
       "         ...    \n",
       "245     5.546461\n",
       "247     5.535443\n",
       "248    21.413562\n",
       "250     4.062883\n",
       "252     7.328048\n",
       "Length: 155, dtype: float64"
      ]
     },
     "execution_count": 17,
     "metadata": {},
     "output_type": "execute_result"
    }
   ],
   "source": [
    "p0['gas_price'] * p0['gas_used'] / 1e9 * (p0['eth_price_usd'])"
   ]
  },
  {
   "cell_type": "code",
   "execution_count": 9,
   "id": "ac0f16e1-0fbd-4f9b-b60a-27a1d7d3a821",
   "metadata": {},
   "outputs": [
    {
     "data": {
      "text/html": [
       "<div>\n",
       "<style scoped>\n",
       "    .dataframe tbody tr th:only-of-type {\n",
       "        vertical-align: middle;\n",
       "    }\n",
       "\n",
       "    .dataframe tbody tr th {\n",
       "        vertical-align: top;\n",
       "    }\n",
       "\n",
       "    .dataframe thead th {\n",
       "        text-align: right;\n",
       "    }\n",
       "</style>\n",
       "<table border=\"1\" class=\"dataframe\">\n",
       "  <thead>\n",
       "    <tr style=\"text-align: right;\">\n",
       "      <th></th>\n",
       "      <th>transaction_hash</th>\n",
       "      <th>timestamp</th>\n",
       "      <th>sqrtPriceX96</th>\n",
       "      <th>tick</th>\n",
       "      <th>eth_price_usd</th>\n",
       "      <th>usdc_amount0</th>\n",
       "      <th>eth_amount1</th>\n",
       "      <th>liquidity</th>\n",
       "      <th>block_number</th>\n",
       "      <th>gas_price</th>\n",
       "      <th>gas_used</th>\n",
       "      <th>sender</th>\n",
       "      <th>recipient</th>\n",
       "    </tr>\n",
       "  </thead>\n",
       "  <tbody>\n",
       "    <tr>\n",
       "      <th>0</th>\n",
       "      <td>0x4ee367ef211f62fc0dbf7955eb9c4c86415f865e2d1d...</td>\n",
       "      <td>2025-01-09 04:12:47+00:00</td>\n",
       "      <td>1374141099168222523411754976427110</td>\n",
       "      <td>195229</td>\n",
       "      <td>3324.271676</td>\n",
       "      <td>-15691.339380</td>\n",
       "      <td>4.733413</td>\n",
       "      <td>1257603196207272563</td>\n",
       "      <td>21584462</td>\n",
       "      <td>7.902123</td>\n",
       "      <td>242126</td>\n",
       "      <td>0x93793bd1f3e35a0efd098c30e486a860a0ef7551</td>\n",
       "      <td>0x68d3a973e7272eb388022a5c6518d9b2a2e66fbf</td>\n",
       "    </tr>\n",
       "    <tr>\n",
       "      <th>1</th>\n",
       "      <td>0xe05e69b7aa2e832b31fe9dc44d943a8ed6e7f16e2277...</td>\n",
       "      <td>2025-01-09 04:14:35+00:00</td>\n",
       "      <td>1374892883879252132493061788155634</td>\n",
       "      <td>195240</td>\n",
       "      <td>3320.637279</td>\n",
       "      <td>-39650.463359</td>\n",
       "      <td>11.970000</td>\n",
       "      <td>1258783358697302753</td>\n",
       "      <td>21584471</td>\n",
       "      <td>4.249262</td>\n",
       "      <td>2267296</td>\n",
       "      <td>0x87f48f664b0135273f967eec06452fc69244a326</td>\n",
       "      <td>0x7d0ccaa3fac1e5a943c5168b6ced828691b46b36</td>\n",
       "    </tr>\n",
       "    <tr>\n",
       "      <th>2</th>\n",
       "      <td>0x9652e54c7fb991136926b5a4b5d3b7f1644480d554d1...</td>\n",
       "      <td>2025-01-09 04:14:59+00:00</td>\n",
       "      <td>1374893811284782537777052708389840</td>\n",
       "      <td>195240</td>\n",
       "      <td>3320.632799</td>\n",
       "      <td>-48.928537</td>\n",
       "      <td>0.014779</td>\n",
       "      <td>1258783358697302753</td>\n",
       "      <td>21584473</td>\n",
       "      <td>4.479480</td>\n",
       "      <td>343469</td>\n",
       "      <td>0x47add9a56df66b524d5e2c1993a43cde53b6ed85</td>\n",
       "      <td>0xdef1c0ded9bec7f1a1670819833240f027b25eff</td>\n",
       "    </tr>\n",
       "    <tr>\n",
       "      <th>3</th>\n",
       "      <td>0x9dc35a4eab7bb29682b673fe518fc51cfc77a2a7a344...</td>\n",
       "      <td>2025-01-09 04:15:11+00:00</td>\n",
       "      <td>1374917334874212319553321965513404</td>\n",
       "      <td>195241</td>\n",
       "      <td>3320.519174</td>\n",
       "      <td>-1241.047553</td>\n",
       "      <td>0.374869</td>\n",
       "      <td>1258783358697302753</td>\n",
       "      <td>21584474</td>\n",
       "      <td>4.639814</td>\n",
       "      <td>2811002</td>\n",
       "      <td>0xc7899ff6a3ac2ff59261bd960a8c880df06e1041</td>\n",
       "      <td>0x9008d19f58aabd9ed0d60971565aa8510560ab41</td>\n",
       "    </tr>\n",
       "    <tr>\n",
       "      <th>4</th>\n",
       "      <td>0xf9de458007d3e1a16d6076a68fe9a2889d8154202fe7...</td>\n",
       "      <td>2025-01-09 04:15:23+00:00</td>\n",
       "      <td>1374923047689514736680865000597135</td>\n",
       "      <td>195241</td>\n",
       "      <td>3320.491580</td>\n",
       "      <td>-301.387877</td>\n",
       "      <td>0.091039</td>\n",
       "      <td>1258783358697302753</td>\n",
       "      <td>21584475</td>\n",
       "      <td>6.344145</td>\n",
       "      <td>380333</td>\n",
       "      <td>0x51ed2cf92542cf537d16b59c35676a7ba26b4289</td>\n",
       "      <td>0x3fc91a3afd70395cd496c647d5a6cc9d4b2b7fad</td>\n",
       "    </tr>\n",
       "  </tbody>\n",
       "</table>\n",
       "</div>"
      ],
      "text/plain": [
       "                                    transaction_hash  \\\n",
       "0  0x4ee367ef211f62fc0dbf7955eb9c4c86415f865e2d1d...   \n",
       "1  0xe05e69b7aa2e832b31fe9dc44d943a8ed6e7f16e2277...   \n",
       "2  0x9652e54c7fb991136926b5a4b5d3b7f1644480d554d1...   \n",
       "3  0x9dc35a4eab7bb29682b673fe518fc51cfc77a2a7a344...   \n",
       "4  0xf9de458007d3e1a16d6076a68fe9a2889d8154202fe7...   \n",
       "\n",
       "                  timestamp                        sqrtPriceX96    tick  \\\n",
       "0 2025-01-09 04:12:47+00:00  1374141099168222523411754976427110  195229   \n",
       "1 2025-01-09 04:14:35+00:00  1374892883879252132493061788155634  195240   \n",
       "2 2025-01-09 04:14:59+00:00  1374893811284782537777052708389840  195240   \n",
       "3 2025-01-09 04:15:11+00:00  1374917334874212319553321965513404  195241   \n",
       "4 2025-01-09 04:15:23+00:00  1374923047689514736680865000597135  195241   \n",
       "\n",
       "   eth_price_usd  usdc_amount0  eth_amount1            liquidity  \\\n",
       "0    3324.271676 -15691.339380     4.733413  1257603196207272563   \n",
       "1    3320.637279 -39650.463359    11.970000  1258783358697302753   \n",
       "2    3320.632799    -48.928537     0.014779  1258783358697302753   \n",
       "3    3320.519174  -1241.047553     0.374869  1258783358697302753   \n",
       "4    3320.491580   -301.387877     0.091039  1258783358697302753   \n",
       "\n",
       "   block_number  gas_price  gas_used  \\\n",
       "0      21584462   7.902123    242126   \n",
       "1      21584471   4.249262   2267296   \n",
       "2      21584473   4.479480    343469   \n",
       "3      21584474   4.639814   2811002   \n",
       "4      21584475   6.344145    380333   \n",
       "\n",
       "                                       sender  \\\n",
       "0  0x93793bd1f3e35a0efd098c30e486a860a0ef7551   \n",
       "1  0x87f48f664b0135273f967eec06452fc69244a326   \n",
       "2  0x47add9a56df66b524d5e2c1993a43cde53b6ed85   \n",
       "3  0xc7899ff6a3ac2ff59261bd960a8c880df06e1041   \n",
       "4  0x51ed2cf92542cf537d16b59c35676a7ba26b4289   \n",
       "\n",
       "                                    recipient  \n",
       "0  0x68d3a973e7272eb388022a5c6518d9b2a2e66fbf  \n",
       "1  0x7d0ccaa3fac1e5a943c5168b6ced828691b46b36  \n",
       "2  0xdef1c0ded9bec7f1a1670819833240f027b25eff  \n",
       "3  0x9008d19f58aabd9ed0d60971565aa8510560ab41  \n",
       "4  0x3fc91a3afd70395cd496c647d5a6cc9d4b2b7fad  "
      ]
     },
     "execution_count": 9,
     "metadata": {},
     "output_type": "execute_result"
    }
   ],
   "source": [
    "p1.head()"
   ]
  },
  {
   "cell_type": "code",
   "execution_count": 10,
   "id": "65f82986-ee7a-4b4e-a18d-90dab19f7d82",
   "metadata": {},
   "outputs": [
    {
     "name": "stdout",
     "output_type": "stream",
     "text": [
      "Are there any NaNs in the DataFrame? False\n"
     ]
    },
    {
     "name": "stderr",
     "output_type": "stream",
     "text": [
      "/Users/das/DATASCI210/arbitrage_playground/src/alchemyutils.py:687: FutureWarning: Downcasting object dtype arrays on .fillna, .ffill, .bfill is deprecated and will change in a future version. Call result.infer_objects(copy=False) instead. To opt-in to the future behavior, set `pd.set_option('future.no_silent_downcasting', True)`\n",
      "  both_pools = both_pools.ffill().reset_index(drop=True)\n"
     ]
    },
    {
     "data": {
      "text/html": [
       "<div>\n",
       "<style scoped>\n",
       "    .dataframe tbody tr th:only-of-type {\n",
       "        vertical-align: middle;\n",
       "    }\n",
       "\n",
       "    .dataframe tbody tr th {\n",
       "        vertical-align: top;\n",
       "    }\n",
       "\n",
       "    .dataframe thead th {\n",
       "        text-align: right;\n",
       "    }\n",
       "</style>\n",
       "<table border=\"1\" class=\"dataframe\">\n",
       "  <thead>\n",
       "    <tr style=\"text-align: right;\">\n",
       "      <th></th>\n",
       "      <th>time</th>\n",
       "      <th>timestamp</th>\n",
       "      <th>p1.transaction_time</th>\n",
       "      <th>p1.transaction_epoch_time</th>\n",
       "      <th>p1.t0_amount</th>\n",
       "      <th>p1.t1_amount</th>\n",
       "      <th>p1.t0_token</th>\n",
       "      <th>p1.t1_token</th>\n",
       "      <th>p1.tick</th>\n",
       "      <th>p1.sqrtPriceX96</th>\n",
       "      <th>...</th>\n",
       "      <th>p0.eth_price_usd</th>\n",
       "      <th>p0.transaction_fees_usd</th>\n",
       "      <th>p0.gas_fees_usd</th>\n",
       "      <th>p0.total_fees_usd</th>\n",
       "      <th>percent_change</th>\n",
       "      <th>total_gas_fees_usd</th>\n",
       "      <th>total_transaction_rate</th>\n",
       "      <th>total_transaction_fees_used</th>\n",
       "      <th>total_fees_usd</th>\n",
       "      <th>swap_go_nogo</th>\n",
       "    </tr>\n",
       "  </thead>\n",
       "  <tbody>\n",
       "    <tr>\n",
       "      <th>30</th>\n",
       "      <td>2025-01-09 04:17:47+00:00</td>\n",
       "      <td>1.736396e+09</td>\n",
       "      <td>2025-01-09 04:15:23+00:00</td>\n",
       "      <td>1.736396e+09</td>\n",
       "      <td>-301.387877</td>\n",
       "      <td>0.091039</td>\n",
       "      <td>USDC</td>\n",
       "      <td>WETH</td>\n",
       "      <td>195241.0</td>\n",
       "      <td>1.374923e+33</td>\n",
       "      <td>...</td>\n",
       "      <td>3313.210186</td>\n",
       "      <td>0.079960</td>\n",
       "      <td>6.354711e-09</td>\n",
       "      <td>0.079960</td>\n",
       "      <td>-0.002198</td>\n",
       "      <td>1.436668e-08</td>\n",
       "      <td>0.0035</td>\n",
       "      <td>0.986841</td>\n",
       "      <td>0.986841</td>\n",
       "      <td>False</td>\n",
       "    </tr>\n",
       "    <tr>\n",
       "      <th>31</th>\n",
       "      <td>2025-01-09 04:17:47+00:00</td>\n",
       "      <td>1.736396e+09</td>\n",
       "      <td>2025-01-09 04:15:23+00:00</td>\n",
       "      <td>1.736396e+09</td>\n",
       "      <td>-301.387877</td>\n",
       "      <td>0.091039</td>\n",
       "      <td>USDC</td>\n",
       "      <td>WETH</td>\n",
       "      <td>195241.0</td>\n",
       "      <td>1.374923e+33</td>\n",
       "      <td>...</td>\n",
       "      <td>3312.661885</td>\n",
       "      <td>17.439392</td>\n",
       "      <td>5.645252e-09</td>\n",
       "      <td>17.439392</td>\n",
       "      <td>-0.002364</td>\n",
       "      <td>1.365723e-08</td>\n",
       "      <td>0.0035</td>\n",
       "      <td>18.346272</td>\n",
       "      <td>18.346272</td>\n",
       "      <td>False</td>\n",
       "    </tr>\n",
       "    <tr>\n",
       "      <th>32</th>\n",
       "      <td>2025-01-09 04:18:23+00:00</td>\n",
       "      <td>1.736396e+09</td>\n",
       "      <td>2025-01-09 04:15:23+00:00</td>\n",
       "      <td>1.736396e+09</td>\n",
       "      <td>-301.387877</td>\n",
       "      <td>0.091039</td>\n",
       "      <td>USDC</td>\n",
       "      <td>WETH</td>\n",
       "      <td>195241.0</td>\n",
       "      <td>1.374923e+33</td>\n",
       "      <td>...</td>\n",
       "      <td>3312.626084</td>\n",
       "      <td>1.138837</td>\n",
       "      <td>1.187882e-08</td>\n",
       "      <td>1.138837</td>\n",
       "      <td>-0.002374</td>\n",
       "      <td>1.989079e-08</td>\n",
       "      <td>0.0035</td>\n",
       "      <td>2.045717</td>\n",
       "      <td>2.045717</td>\n",
       "      <td>False</td>\n",
       "    </tr>\n",
       "    <tr>\n",
       "      <th>33</th>\n",
       "      <td>2025-01-09 04:18:59+00:00</td>\n",
       "      <td>1.736396e+09</td>\n",
       "      <td>2025-01-09 04:15:23+00:00</td>\n",
       "      <td>1.736396e+09</td>\n",
       "      <td>-301.387877</td>\n",
       "      <td>0.091039</td>\n",
       "      <td>USDC</td>\n",
       "      <td>WETH</td>\n",
       "      <td>195241.0</td>\n",
       "      <td>1.374923e+33</td>\n",
       "      <td>...</td>\n",
       "      <td>3313.359881</td>\n",
       "      <td>23.331950</td>\n",
       "      <td>9.159430e-09</td>\n",
       "      <td>23.331950</td>\n",
       "      <td>-0.002152</td>\n",
       "      <td>1.717140e-08</td>\n",
       "      <td>0.0035</td>\n",
       "      <td>24.238831</td>\n",
       "      <td>24.238831</td>\n",
       "      <td>False</td>\n",
       "    </tr>\n",
       "    <tr>\n",
       "      <th>34</th>\n",
       "      <td>2025-01-09 04:18:59+00:00</td>\n",
       "      <td>1.736396e+09</td>\n",
       "      <td>2025-01-09 04:15:23+00:00</td>\n",
       "      <td>1.736396e+09</td>\n",
       "      <td>-301.387877</td>\n",
       "      <td>0.091039</td>\n",
       "      <td>USDC</td>\n",
       "      <td>WETH</td>\n",
       "      <td>195241.0</td>\n",
       "      <td>1.374923e+33</td>\n",
       "      <td>...</td>\n",
       "      <td>3313.345758</td>\n",
       "      <td>0.449181</td>\n",
       "      <td>8.082814e-09</td>\n",
       "      <td>0.449181</td>\n",
       "      <td>-0.002157</td>\n",
       "      <td>1.609479e-08</td>\n",
       "      <td>0.0035</td>\n",
       "      <td>1.356062</td>\n",
       "      <td>1.356062</td>\n",
       "      <td>False</td>\n",
       "    </tr>\n",
       "  </tbody>\n",
       "</table>\n",
       "<p>5 rows × 48 columns</p>\n",
       "</div>"
      ],
      "text/plain": [
       "                        time     timestamp       p1.transaction_time  \\\n",
       "30 2025-01-09 04:17:47+00:00  1.736396e+09 2025-01-09 04:15:23+00:00   \n",
       "31 2025-01-09 04:17:47+00:00  1.736396e+09 2025-01-09 04:15:23+00:00   \n",
       "32 2025-01-09 04:18:23+00:00  1.736396e+09 2025-01-09 04:15:23+00:00   \n",
       "33 2025-01-09 04:18:59+00:00  1.736396e+09 2025-01-09 04:15:23+00:00   \n",
       "34 2025-01-09 04:18:59+00:00  1.736396e+09 2025-01-09 04:15:23+00:00   \n",
       "\n",
       "    p1.transaction_epoch_time  p1.t0_amount  p1.t1_amount p1.t0_token  \\\n",
       "30               1.736396e+09   -301.387877      0.091039        USDC   \n",
       "31               1.736396e+09   -301.387877      0.091039        USDC   \n",
       "32               1.736396e+09   -301.387877      0.091039        USDC   \n",
       "33               1.736396e+09   -301.387877      0.091039        USDC   \n",
       "34               1.736396e+09   -301.387877      0.091039        USDC   \n",
       "\n",
       "   p1.t1_token   p1.tick  p1.sqrtPriceX96  ...  p0.eth_price_usd  \\\n",
       "30        WETH  195241.0     1.374923e+33  ...       3313.210186   \n",
       "31        WETH  195241.0     1.374923e+33  ...       3312.661885   \n",
       "32        WETH  195241.0     1.374923e+33  ...       3312.626084   \n",
       "33        WETH  195241.0     1.374923e+33  ...       3313.359881   \n",
       "34        WETH  195241.0     1.374923e+33  ...       3313.345758   \n",
       "\n",
       "    p0.transaction_fees_usd  p0.gas_fees_usd p0.total_fees_usd percent_change  \\\n",
       "30                 0.079960     6.354711e-09          0.079960      -0.002198   \n",
       "31                17.439392     5.645252e-09         17.439392      -0.002364   \n",
       "32                 1.138837     1.187882e-08          1.138837      -0.002374   \n",
       "33                23.331950     9.159430e-09         23.331950      -0.002152   \n",
       "34                 0.449181     8.082814e-09          0.449181      -0.002157   \n",
       "\n",
       "   total_gas_fees_usd  total_transaction_rate  total_transaction_fees_used  \\\n",
       "30       1.436668e-08                  0.0035                     0.986841   \n",
       "31       1.365723e-08                  0.0035                    18.346272   \n",
       "32       1.989079e-08                  0.0035                     2.045717   \n",
       "33       1.717140e-08                  0.0035                    24.238831   \n",
       "34       1.609479e-08                  0.0035                     1.356062   \n",
       "\n",
       "    total_fees_usd  swap_go_nogo  \n",
       "30        0.986841         False  \n",
       "31       18.346272         False  \n",
       "32        2.045717         False  \n",
       "33       24.238831         False  \n",
       "34        1.356062         False  \n",
       "\n",
       "[5 rows x 48 columns]"
      ]
     },
     "execution_count": 10,
     "metadata": {},
     "output_type": "execute_result"
    }
   ],
   "source": [
    "both_pools = merge_pool_data_v2(p0, 0.0005, p1, 0.003)\n",
    "both_pools.head()"
   ]
  },
  {
   "cell_type": "code",
   "execution_count": null,
   "id": "883aac5c-c104-4d8c-a576-70055d3d576f",
   "metadata": {},
   "outputs": [],
   "source": []
  },
  {
   "cell_type": "markdown",
   "id": "961b6d57-538e-4f5b-998b-40648deedad9",
   "metadata": {
    "jp-MarkdownHeadingCollapsed": true
   },
   "source": [
    "**Manual Example of creating the price in USD or ETH**.  <br> \n",
    "\n",
    "The example transaction can be found [here]( https://etherscan.io/tx/0x706a6106d21d668b23f7e708fc3db05d621477bacf202bd3f62d29e7f3772230).  Each row pulled as one element of the swap transaction (pair of two rows required for a swap). First we need to scale the token values for the swap to the token fraction (i.e. how much of each whole token) using a scaling factor which is specified in each row as 'tokenDecimal'."
   ]
  },
  {
   "cell_type": "code",
   "execution_count": 70,
   "id": "222c5102-d641-4a4f-97a6-082066396167",
   "metadata": {},
   "outputs": [
    {
     "name": "stdout",
     "output_type": "stream",
     "text": [
      "USDC Tokens in Swap (Tx: 0x...2230): 48446.7991\n",
      "ETH_TOKENS Tokens in Swap (Tx: 0x...2230): 14.5084\n"
     ]
    }
   ],
   "source": [
    "# row to pick for the swap...used just for the example.\n",
    "USDC_POSITION=0\n",
    "ETH_POSITION=1\n",
    "\n",
    "#Token Amounts\n",
    "USDC_TOKENS  = int(df['value'].iloc[USDC_POSITION]) / 10**int(df['tokenDecimal'].iloc[USDC_POSITION])\n",
    "ETH_TOKENS   = int(df['value'].iloc[ETH_POSITION]) / 10**int(df['tokenDecimal'].iloc[ETH_POSITION])\n",
    "\n",
    "print(f\"USDC Tokens in Swap (Tx: 0x...{df['hash'].iloc[USDC_POSITION][-4:]}): {USDC_TOKENS:.4f}\")\n",
    "print(f\"ETH_TOKENS Tokens in Swap (Tx: 0x...{df['hash'].iloc[ETH_POSITION][-4:]}): {ETH_TOKENS:.4f}\")"
   ]
  },
  {
   "cell_type": "markdown",
   "id": "d211a84c-c51a-4a19-b2a9-901f07b9cce9",
   "metadata": {},
   "source": [
    "**Get price per ETH**\n",
    "\n",
    "To get an intuition for how this plays out with the pool.  To derive the price per ETH, you can device the USDC tokens by the ETH tokens to get an estimate, which marries up pretty close to market price estimates, which aggregate data from ratios like this from multiple holdings across the market."
   ]
  },
  {
   "cell_type": "code",
   "execution_count": 62,
   "id": "77501620-03c7-4632-ab32-0e3b4e22c308",
   "metadata": {},
   "outputs": [
    {
     "name": "stdout",
     "output_type": "stream",
     "text": [
      "Price of Ethereum in USD in this pool: $3339.22\n"
     ]
    }
   ],
   "source": [
    "print(f\"Price of Ethereum in USD in this pool: ${USDC_TOKENS/ETH_TOKENS:.2f}\")"
   ]
  },
  {
   "cell_type": "markdown",
   "id": "bc5d9386-367b-4371-a6d0-5bef47f21438",
   "metadata": {},
   "source": [
    "**Get gas fees in ETH**\n",
    "\n",
    "Gas fees for a transaction include all the 'work' done. There is a rate of fee per unit of work (i.e. gasPrice) and then there is the work done (i.e. gasUsed).  gasPrice and gasUsed is in gwei which is 1e9 of an ETH.  so to convert to eth, each value needs to be converted with the 1e9 scaling."
   ]
  },
  {
   "cell_type": "code",
   "execution_count": 83,
   "id": "07bd7a32-de69-4074-b774-331077a1812d",
   "metadata": {},
   "outputs": [
    {
     "name": "stdout",
     "output_type": "stream",
     "text": [
      "Gas Price in ETH per unit: 5.737624595\n",
      "Gas Used in GWEI units for Uniswap Transaction: 412794\n",
      "Gas fees for this Transaction in ETH: 0.00237 (ETH)\n",
      "Gas fees for this Transaction in USDC: $7.91 (USDC)\n"
     ]
    }
   ],
   "source": [
    "gas_price_eth_tokens_per_unit = int(df['gasPrice'].iloc[0])/GWEI_SCALER\n",
    "gas_used_units = int(df['gasUsed'].iloc[0])\n",
    "gas_fees_eth_tokens  = gas_price_eth_tokens_per_unit* (gas_used_units / GWEI_SCALER)\n",
    "gas_fees_usdc_tokens = USDC_TOKENS / ETH_TOKENS * gas_fees_eth_tokens \n",
    "print(f\"Gas Price in ETH per unit: {gas_price_eth_tokens_per_unit}\")\n",
    "print(f\"Gas Used in GWEI units for Uniswap Transaction: {gas_used_units}\")\n",
    "print(f\"Gas fees for this Transaction in ETH: {gas_fees_eth_tokens:.5f} (ETH)\")\n",
    "print(f\"Gas fees for this Transaction in USDC: ${gas_fees_usdc_tokens:.2f} (USDC)\")"
   ]
  },
  {
   "cell_type": "code",
   "execution_count": null,
   "id": "9ba1fc28-3129-41ff-bbad-0fe880e36d55",
   "metadata": {},
   "outputs": [],
   "source": []
  },
  {
   "cell_type": "code",
   "execution_count": null,
   "id": "014f2665-e1be-4bcb-b1c2-84d8815add0c",
   "metadata": {},
   "outputs": [],
   "source": []
  }
 ],
 "metadata": {
  "kernelspec": {
   "display_name": "ds210v2 (with Poetry)",
   "language": "python",
   "name": "ds210v2-py3.11"
  },
  "language_info": {
   "codemirror_mode": {
    "name": "ipython",
    "version": 3
   },
   "file_extension": ".py",
   "mimetype": "text/x-python",
   "name": "python",
   "nbconvert_exporter": "python",
   "pygments_lexer": "ipython3",
   "version": "3.11.9"
  }
 },
 "nbformat": 4,
 "nbformat_minor": 5
}
